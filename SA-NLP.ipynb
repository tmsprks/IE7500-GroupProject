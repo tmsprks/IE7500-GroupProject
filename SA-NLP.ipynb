{
 "cells": [
  {
   "cell_type": "code",
   "execution_count": 1,
   "id": "13ced713",
   "metadata": {},
   "outputs": [
    {
     "name": "stderr",
     "output_type": "stream",
     "text": [
      "e:\\life\\edu\\NU-DAE\\IE 7500 - NLP\\proj\\venv-nlp-project\\Lib\\site-packages\\tqdm\\auto.py:21: TqdmWarning: IProgress not found. Please update jupyter and ipywidgets. See https://ipywidgets.readthedocs.io/en/stable/user_install.html\n",
      "  from .autonotebook import tqdm as notebook_tqdm\n"
     ]
    }
   ],
   "source": [
    "import os\n",
    "import pandas as pd\n",
    "import kagglehub\n",
    "\n",
    "from kaggle_data_loader import KaggleDataLoader\n",
    "from data_generator import DataGenerator"
   ]
  },
  {
   "cell_type": "code",
   "execution_count": null,
   "id": "159c8103",
   "metadata": {},
   "outputs": [
    {
     "name": "stdout",
     "output_type": "stream",
     "text": [
      "Path to dataset files: C:\\Users\\hOm3b\\.cache\\kagglehub\\datasets\\kritanjalijain\\amazon-reviews\\versions\\2\n",
      "C:\\Users\\hOm3b\\.cache\\kagglehub\\datasets\\kritanjalijain\\amazon-reviews\\versions\\2\n",
      "['amazon_review_polarity_csv.tgz', 'test.csv', 'train.csv']\n",
      "Path to dataset files: C:\\Users\\hOm3b\\.cache\\kagglehub\\datasets\\kritanjalijain\\amazon-reviews\\versions\\2\n",
      "C:\\Users\\hOm3b\\.cache\\kagglehub\\datasets\\kritanjalijain\\amazon-reviews\\versions\\2\n",
      "['amazon_review_polarity_csv.tgz', 'test.csv', 'train.csv']\n",
      "   Label                                              Title  \\\n",
      "0      2                     Stuning even for the non-gamer   \n",
      "1      2              The best soundtrack ever to anything.   \n",
      "2      2                                           Amazing!   \n",
      "3      2                               Excellent Soundtrack   \n",
      "4      2  Remember, Pull Your Jaw Off The Floor After He...   \n",
      "\n",
      "                                              Review  \n",
      "0  This sound track was beautiful! It paints the ...  \n",
      "1  I'm reading a lot of reviews saying that this ...  \n",
      "2  This soundtrack is my favorite music of all ti...  \n",
      "3  I truly like this soundtrack and I enjoy video...  \n",
      "4  If you've played the game, you know how divine...  \n",
      "Train shape: (3600000, 3)\n",
      "Test shape:  (400000, 3)\n"
     ]
    }
   ],
   "source": [
    "\n",
    "kaggle_path = \"kritanjalijain/amazon-reviews\"\n",
    "data_column_names = [DataGenerator.POLARITY_COLUMN_NAME, \n",
    "                     DataGenerator.TITLE_COLUMN_NAME,\n",
    "                     DataGenerator.REVIEW_COLUMN_NAME]\n",
    "\n",
    "kaggle_data_loader = KaggleDataLoader(kaggle_path)\n",
    "path = kaggle_data_loader.load_data(data_column_names)\n",
    "\n",
    "print(\"Path to dataset files:\", path)\n",
    "print(path)\n",
    "print(os.listdir(path))\n",
    "\n",
    "train_df = kaggle_data_loader.get_train_df()\n",
    "test_df = kaggle_data_loader.get_test_df()\n",
    "\n",
    "print(train_df.head())\n",
    "\n",
    "train_texts = train_df[DataGenerator.REVIEW_COLUMN_NAME].tolist()\n",
    "test_texts = test_df[DataGenerator.REVIEW_COLUMN_NAME].tolist()\n",
    "\n",
    "train_labels = (train_df[DataGenerator.POLARITY_COLUMN_NAME] - 1).tolist() \n",
    "test_labels = (test_df[DataGenerator.POLARITY_COLUMN_NAME] - 1).tolist()\n",
    "\n",
    "print(\"Train shape:\", train_df.shape)\n",
    "print(\"Test shape: \", test_df.shape)"
   ]
  },
  {
   "cell_type": "code",
   "execution_count": 3,
   "id": "488fb648",
   "metadata": {},
   "outputs": [
    {
     "name": "stdout",
     "output_type": "stream",
     "text": [
      "Unique label counts\n",
      "Label\n",
      "2    1800000\n",
      "1    1800000\n",
      "Name: count, dtype: int64\n",
      "Label\n",
      "2    200000\n",
      "1    200000\n",
      "Name: count, dtype: int64\n"
     ]
    }
   ],
   "source": [
    "print(\"Unique label counts\")\n",
    "print(train_df[DataGenerator.POLARITY_COLUMN_NAME].value_counts())\n",
    "print(test_df[DataGenerator.POLARITY_COLUMN_NAME].value_counts())"
   ]
  },
  {
   "cell_type": "code",
   "execution_count": 4,
   "id": "ee4839ee",
   "metadata": {},
   "outputs": [
    {
     "name": "stdout",
     "output_type": "stream",
     "text": [
      "Train dataset, Review column's length:\n",
      "\n",
      "count    3600000.00\n",
      "mean         405.14\n",
      "std          234.27\n",
      "min            4.00\n",
      "25%          207.00\n",
      "50%          356.00\n",
      "75%          566.00\n",
      "max         1010.00\n",
      "Name: Review, dtype: object\n"
     ]
    }
   ],
   "source": [
    "train_review_lengths = train_df[DataGenerator.REVIEW_COLUMN_NAME].str.len()\n",
    "print(\"Train dataset, Review column's length:\\n\")\n",
    "reformatted_desc = train_review_lengths.describe().round(2)\n",
    "\n",
    "# Convert from scientific notation to 2 decimal only\n",
    "print(reformatted_desc.apply(lambda x: f\"{x:.2f}\"))"
   ]
  },
  {
   "cell_type": "code",
   "execution_count": 5,
   "id": "2f5ce8ad",
   "metadata": {},
   "outputs": [
    {
     "name": "stdout",
     "output_type": "stream",
     "text": [
      "Test dataset, Review column's length:\n",
      "\n",
      "count    400000.00\n",
      "mean        404.90\n",
      "std         234.11\n",
      "min          15.00\n",
      "25%         207.00\n",
      "50%         356.00\n",
      "75%         565.00\n",
      "max        1009.00\n",
      "Name: Review, dtype: object\n"
     ]
    }
   ],
   "source": [
    "test_review_lengths = test_df[DataGenerator.REVIEW_COLUMN_NAME].str.len()\n",
    "print(\"Test dataset, Review column's length:\\n\")\n",
    "reformatted_desc = test_review_lengths.describe().round(2)\n",
    "\n",
    "# Convert from scientific notation to 2 decimal only\n",
    "print(reformatted_desc.apply(lambda x: f\"{x:.2f}\"))"
   ]
  },
  {
   "cell_type": "code",
   "execution_count": null,
   "id": "533b227b",
   "metadata": {},
   "outputs": [],
   "source": [
    "###\n",
    "### This may take a bit of time to run\n",
    "###\n",
    "\n",
    "from itertools import chain\n",
    "\n",
    "def get_unique_words(series):\n",
    "    # To lowercase and split into words, handling NaN\n",
    "    words = (review.lower().split() for review in series if isinstance(review, str))\n",
    "    # Flatten and convert to set\n",
    "    return set(chain(*words))\n",
    "\n",
    "\n",
    "# Apply to 'review' column\n",
    "unique_words = get_unique_words(train_df[DataGenerator.REVIEW_COLUMN_NAME])\n",
    "num_unique_words = len(unique_words)\n",
    "\n",
    "print(f\"Number of unique words in all the reviews: {num_unique_words}\")"
   ]
  }
 ],
 "metadata": {
  "kernelspec": {
   "display_name": "venv-nlp-project",
   "language": "python",
   "name": "python3"
  },
  "language_info": {
   "codemirror_mode": {
    "name": "ipython",
    "version": 3
   },
   "file_extension": ".py",
   "mimetype": "text/x-python",
   "name": "python",
   "nbconvert_exporter": "python",
   "pygments_lexer": "ipython3",
   "version": "3.12.7"
  }
 },
 "nbformat": 4,
 "nbformat_minor": 5
}
