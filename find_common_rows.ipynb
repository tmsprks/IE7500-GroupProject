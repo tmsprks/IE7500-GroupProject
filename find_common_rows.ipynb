{
 "cells": [
  {
   "cell_type": "code",
   "execution_count": 1,
   "id": "8c32428b",
   "metadata": {},
   "outputs": [
    {
     "name": "stderr",
     "output_type": "stream",
     "text": [
      "e:\\life\\edu\\NU-DAE\\IE 7500 - NLP\\Proj\\venv-nlp-proj\\Lib\\site-packages\\tqdm\\auto.py:21: TqdmWarning: IProgress not found. Please update jupyter and ipywidgets. See https://ipywidgets.readthedocs.io/en/stable/user_install.html\n",
      "  from .autonotebook import tqdm as notebook_tqdm\n"
     ]
    }
   ],
   "source": [
    "import pandas as pd\n",
    "import os\n",
    "\n",
    "from kaggle_dataset import KaggleDataSet"
   ]
  },
  {
   "cell_type": "code",
   "execution_count": 2,
   "id": "c6adefcf",
   "metadata": {},
   "outputs": [
    {
     "name": "stdout",
     "output_type": "stream",
     "text": [
      "From file z:\\life\\edu\\NU-DAE\\IE 7500 - NLP\\Proj\\src\\SA_NLP\\train_50K.csv\n",
      "   Kaggle_Label                                              Title  \\\n",
      "0             1                                   Not recommended.   \n",
      "1             1  Right up there w//Little Women as Worst Book Ever   \n",
      "2             1                                      An Ice Ending   \n",
      "\n",
      "                                              Review  \n",
      "0  If it wasn't for Case knives it wouldn't be mu...  \n",
      "1  I was forced into reading this in class this y...  \n",
      "2  I won't go into the whole book, just the endin...  \n",
      "\n",
      "From file z:\\life\\edu\\NU-DAE\\IE 7500 - NLP\\Proj\\src\\SA_NLP\\train_60K.csv\n",
      "   Kaggle_Label                 Title  \\\n",
      "0             1         Pink Yawnfest   \n",
      "1             1        Pure Posturing   \n",
      "2             1  Beware: Chips easily   \n",
      "\n",
      "                                              Review  \n",
      "0  It's frustrating when screenwriters, journalis...  \n",
      "1  Anyone who goes to a Fugazi show (in DC) knows...  \n",
      "2  I loved the pattern, but the edges of lids chi...  \n"
     ]
    }
   ],
   "source": [
    "### Name of the two files to compare\n",
    "file_a = \"train_50K.csv\"\n",
    "file_b = \"train_60K.csv\"\n",
    "\n",
    "script_dir = os.getcwd()\n",
    "file_a_path = os.path.join(script_dir, file_a)\n",
    "file_b_path = os.path.join(script_dir, file_b)\n",
    "\n",
    "df1 = pd.read_csv(file_a_path, header=None, names=KaggleDataSet.get_kaggle_column_names())\n",
    "df2 = pd.read_csv(file_b_path, header=None, names=KaggleDataSet.get_kaggle_column_names())\n",
    "\n",
    "print(f\"From file {file_a_path}\")\n",
    "print(df1.head(3))\n",
    "print()\n",
    "print(f\"From file {file_b_path}\")\n",
    "print(df2.head(3))\n",
    "\n",
    "\n",
    "# Optionally, save to a new CSV\n",
    "####common_rows.to_csv('common_rows.csv', index=False)"
   ]
  },
  {
   "cell_type": "code",
   "execution_count": 3,
   "id": "95274231",
   "metadata": {},
   "outputs": [
    {
     "name": "stdout",
     "output_type": "stream",
     "text": [
      "df1 duplicates: 0\n",
      "df2 duplicates: 0\n"
     ]
    }
   ],
   "source": [
    "print(\"df1 duplicates:\", df1.duplicated().sum())\n",
    "print(\"df2 duplicates:\", df2.duplicated().sum())"
   ]
  },
  {
   "cell_type": "code",
   "execution_count": 4,
   "id": "5eeb2534",
   "metadata": {},
   "outputs": [
    {
     "name": "stdout",
     "output_type": "stream",
     "text": [
      "Common columns: ['Review', 'Title', 'Kaggle_Label']\n"
     ]
    }
   ],
   "source": [
    "# Check common columns\n",
    "common_cols = list(set(df1.columns).intersection(df2.columns))\n",
    "print(\"Common columns:\", common_cols)"
   ]
  },
  {
   "cell_type": "code",
   "execution_count": 5,
   "id": "f818ffbe",
   "metadata": {},
   "outputs": [
    {
     "name": "stdout",
     "output_type": "stream",
     "text": [
      "df1 size: 50000\n",
      "df2 size: 60000\n",
      "\n",
      " ==================================================================================================== \n",
      "\n",
      "Rows found in both files\n",
      "Empty DataFrame\n",
      "Columns: [Kaggle_Label, Title, Review]\n",
      "Index: []\n"
     ]
    }
   ],
   "source": [
    "\n",
    "print(f\"df1 size: {len(df1)}\")\n",
    "print(f\"df2 size: {len(df2)}\")\n",
    "\n",
    "# Inner joint to find common rows\n",
    "common_rows = pd.merge(df1, df2, how='inner')\n",
    "\n",
    "print(\"\\n\", \"=\" * 100, \"\\n\")\n",
    "print(\"Rows found in both files\")\n",
    "print(common_rows)\n"
   ]
  },
  {
   "cell_type": "code",
   "execution_count": null,
   "id": "c4fb4c49",
   "metadata": {},
   "outputs": [],
   "source": []
  }
 ],
 "metadata": {
  "kernelspec": {
   "display_name": "venv-nlp-project",
   "language": "python",
   "name": "python3"
  },
  "language_info": {
   "codemirror_mode": {
    "name": "ipython",
    "version": 3
   },
   "file_extension": ".py",
   "mimetype": "text/x-python",
   "name": "python",
   "nbconvert_exporter": "python",
   "pygments_lexer": "ipython3",
   "version": "3.12.7"
  }
 },
 "nbformat": 4,
 "nbformat_minor": 5
}
