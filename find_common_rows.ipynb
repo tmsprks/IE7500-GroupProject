{
 "cells": [
  {
   "cell_type": "code",
   "execution_count": 1,
   "id": "8c32428b",
   "metadata": {},
   "outputs": [],
   "source": [
    "import pandas as pd\n",
    "import os"
   ]
  },
  {
   "cell_type": "code",
   "execution_count": null,
   "id": "c6adefcf",
   "metadata": {},
   "outputs": [
    {
     "name": "stdout",
     "output_type": "stream",
     "text": [
      "Empty DataFrame\n",
      "Columns: [Label, Title, Review]\n",
      "Index: []\n"
     ]
    }
   ],
   "source": [
    "### Name of the two files to compare\n",
    "file_a = \"train_20K.csv\"\n",
    "file_b = \"train_80K.csv\"\n",
    "\n",
    "script_dir = os.getcwd()\n",
    "file_a_path = os.path.join(script_dir, file_a)\n",
    "file_b_path = os.path.join(script_dir, file_b)\n",
    "\n",
    "df1 = pd.read_csv(file_a_path)\n",
    "df2 = pd.read_csv(file_b_path)\n",
    "\n",
    "# Inner joint to find common rows\n",
    "common_rows = pd.merge(df1, df2, how='inner')\n",
    "\n",
    "print(common_rows)\n",
    "\n",
    "\n",
    "# Optionally, save to a new CSV\n",
    "####common_rows.to_csv('common_rows.csv', index=False)"
   ]
  }
 ],
 "metadata": {
  "kernelspec": {
   "display_name": "venv-nlp-project",
   "language": "python",
   "name": "python3"
  },
  "language_info": {
   "codemirror_mode": {
    "name": "ipython",
    "version": 3
   },
   "file_extension": ".py",
   "mimetype": "text/x-python",
   "name": "python",
   "nbconvert_exporter": "python",
   "pygments_lexer": "ipython3",
   "version": "3.12.7"
  }
 },
 "nbformat": 4,
 "nbformat_minor": 5
}
