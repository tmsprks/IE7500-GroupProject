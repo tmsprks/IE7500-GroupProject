{
 "cells": [
  {
   "cell_type": "code",
   "execution_count": null,
   "id": "8c32428b",
   "metadata": {},
   "outputs": [],
   "source": [
    "import pandas as pd\n",
    "import os\n",
    "\n",
    "from kaggle_dataset import KaggleDataSet"
   ]
  },
  {
   "cell_type": "code",
   "execution_count": null,
   "id": "c6adefcf",
   "metadata": {},
   "outputs": [],
   "source": [
    "### Name of the two files to compare\n",
    "file_a = \"train_50K.csv\"\n",
    "file_b = \"train_60K.csv\"\n",
    "\n",
    "script_dir = os.getcwd()\n",
    "file_a_path = os.path.join(script_dir, file_a)\n",
    "file_b_path = os.path.join(script_dir, file_b)\n",
    "\n",
    "df1 = pd.read_csv(file_a_path, header=None, names=KaggleDataSet.get_kaggle_column_names())\n",
    "df2 = pd.read_csv(file_b_path, header=None, names=KaggleDataSet.get_kaggle_column_names())\n",
    "\n",
    "print(f\"From file {file_a_path}\")\n",
    "print(df1.head(3))\n",
    "print()\n",
    "print(f\"From file {file_b_path}\")\n",
    "print(df2.head(3))\n",
    "\n",
    "\n",
    "# Optionally, save to a new CSV\n",
    "####common_rows.to_csv('common_rows.csv', index=False)"
   ]
  },
  {
   "cell_type": "code",
   "execution_count": null,
   "id": "95274231",
   "metadata": {},
   "outputs": [],
   "source": [
    "print(\"df1 duplicates:\", df1.duplicated().sum())\n",
    "print(\"df2 duplicates:\", df2.duplicated().sum())"
   ]
  },
  {
   "cell_type": "code",
   "execution_count": null,
   "id": "5eeb2534",
   "metadata": {},
   "outputs": [],
   "source": [
    "# Check common columns\n",
    "common_cols = list(set(df1.columns).intersection(df2.columns))\n",
    "print(\"Common columns:\", common_cols)"
   ]
  },
  {
   "cell_type": "code",
   "execution_count": null,
   "id": "f818ffbe",
   "metadata": {},
   "outputs": [],
   "source": [
    "\n",
    "print(f\"df1 size: {len(df1)}\")\n",
    "print(f\"df2 size: {len(df2)}\")\n",
    "\n",
    "# Inner joint to find common rows\n",
    "common_rows = pd.merge(df1, df2, how='inner')\n",
    "\n",
    "print(\"\\n\", \"=\" * 100, \"\\n\")\n",
    "print(\"Rows found in both files\")\n",
    "print(common_rows)\n"
   ]
  },
  {
   "cell_type": "code",
   "execution_count": null,
   "id": "c4fb4c49",
   "metadata": {},
   "outputs": [],
   "source": []
  }
 ],
 "metadata": {
  "kernelspec": {
   "display_name": "venv-nlp-project",
   "language": "python",
   "name": "python3"
  },
  "language_info": {
   "codemirror_mode": {
    "name": "ipython",
    "version": 3
   },
   "file_extension": ".py",
   "mimetype": "text/x-python",
   "name": "python",
   "nbconvert_exporter": "python",
   "pygments_lexer": "ipython3",
   "version": "3.12.7"
  }
 },
 "nbformat": 4,
 "nbformat_minor": 5
}
