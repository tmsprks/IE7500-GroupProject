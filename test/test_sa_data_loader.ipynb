{
 "cells": [
  {
   "cell_type": "code",
   "execution_count": 1,
   "id": "afec2d68",
   "metadata": {},
   "outputs": [
    {
     "name": "stderr",
     "output_type": "stream",
     "text": [
      "e:\\life\\edu\\NU-DAE\\IE 7500 - NLP\\proj\\venv-nlp-project\\Lib\\site-packages\\tqdm\\auto.py:21: TqdmWarning: IProgress not found. Please update jupyter and ipywidgets. See https://ipywidgets.readthedocs.io/en/stable/user_install.html\n",
      "  from .autonotebook import tqdm as notebook_tqdm\n"
     ]
    }
   ],
   "source": [
    "import os\n",
    "from kaggle_dataset import KaggleDataSet\n",
    "from sa_data_loader import SADataLoader"
   ]
  },
  {
   "cell_type": "code",
   "execution_count": 2,
   "id": "06265db0",
   "metadata": {},
   "outputs": [
    {
     "name": "stdout",
     "output_type": "stream",
     "text": [
      "Transform set to: <bound method BinaryLabelTransformer.transform of <binary_label_transformer.BinaryLabelTransformer object at 0x000002DAF5046930>>, Type: <class 'method'>\n",
      "Path to train csv file: z:\\life\\edu\\NU-DAE\\IE 7500 - NLP\\Proj\\src\\SA_NLP\\train_50K.csv\n",
      "Path to test csv file: z:\\life\\edu\\NU-DAE\\IE 7500 - NLP\\Proj\\src\\SA_NLP\\test_10K.csv\n",
      "Path to validation csv file: z:\\life\\edu\\NU-DAE\\IE 7500 - NLP\\Proj\\src\\SA_NLP\\validate_10K.csv\n",
      "Train size: 50000\n",
      "Test size: 10000\n",
      "Validation size: 10000\n"
     ]
    }
   ],
   "source": [
    "train_file = \"train_50K.csv\"\n",
    "test_file = \"test_10K.csv\"\n",
    "validate_file = \"validate_10K.csv\"\n",
    "\n",
    "cwd = os.getcwd()\n",
    "path_to_train_csv_file = os.path.join(cwd, train_file)\n",
    "path_to_test_csv_file = os.path.join(cwd, test_file)\n",
    "path_to_validate_csv_file = os.path.join(cwd, validate_file)\n",
    "\n",
    "sa_data_loader = SADataLoader(path_to_train_csv_file, path_to_test_csv_file, path_to_validate_csv_file)\n",
    "sa_data_loader.load_data(KaggleDataSet.get_kaggle_column_names())\n",
    "\n",
    "train_df = sa_data_loader.get_train_df()\n",
    "test_df = sa_data_loader.get_test_df()\n",
    "validate_df = sa_data_loader.get_validation_df()"
   ]
  },
  {
   "cell_type": "code",
   "execution_count": 3,
   "id": "b41dd32a",
   "metadata": {},
   "outputs": [
    {
     "data": {
      "text/plain": [
       "(50000, 4)"
      ]
     },
     "execution_count": 3,
     "metadata": {},
     "output_type": "execute_result"
    }
   ],
   "source": [
    "train_df.shape\n"
   ]
  },
  {
   "cell_type": "code",
   "execution_count": 4,
   "id": "9045f540",
   "metadata": {},
   "outputs": [
    {
     "data": {
      "text/plain": [
       "(10000, 4)"
      ]
     },
     "execution_count": 4,
     "metadata": {},
     "output_type": "execute_result"
    }
   ],
   "source": [
    "test_df.shape"
   ]
  },
  {
   "cell_type": "code",
   "execution_count": 5,
   "id": "c26c56d8",
   "metadata": {},
   "outputs": [
    {
     "name": "stdout",
     "output_type": "stream",
     "text": [
      "Unique Kaggle label counts.  Unique values should be 1s and 2s\n",
      "Kaggle_Label\n",
      "1    25000\n",
      "2    25000\n",
      "Name: count, dtype: int64\n",
      "Kaggle_Label\n",
      "1    5000\n",
      "2    5000\n",
      "Name: count, dtype: int64\n",
      "Kaggle_Label\n",
      "1    5000\n",
      "2    5000\n",
      "Name: count, dtype: int64\n"
     ]
    }
   ],
   "source": [
    "print(\"Unique Kaggle label counts.  Unique values should be 1s and 2s\")\n",
    "print(train_df[KaggleDataSet.get_kaggle_polarity_column_name()].value_counts())\n",
    "print(test_df[KaggleDataSet.get_kaggle_polarity_column_name()].value_counts())\n",
    "print(validate_df[KaggleDataSet.get_kaggle_polarity_column_name()].value_counts())"
   ]
  },
  {
   "cell_type": "code",
   "execution_count": 6,
   "id": "a72e6aa3",
   "metadata": {},
   "outputs": [
    {
     "name": "stdout",
     "output_type": "stream",
     "text": [
      "Unique transformed label counts.  Unique values should be 0s and 1s\n",
      "Label\n",
      "0    25000\n",
      "1    25000\n",
      "Name: count, dtype: int64\n",
      "Label\n",
      "0    5000\n",
      "1    5000\n",
      "Name: count, dtype: int64\n",
      "Label\n",
      "0    5000\n",
      "1    5000\n",
      "Name: count, dtype: int64\n"
     ]
    }
   ],
   "source": [
    "print(\"Unique transformed label counts.  Unique values should be 0s and 1s\")\n",
    "print(train_df[KaggleDataSet.get_polarity_column_name()].value_counts())\n",
    "print(test_df[KaggleDataSet.get_polarity_column_name()].value_counts())\n",
    "print(validate_df[KaggleDataSet.get_polarity_column_name()].value_counts())"
   ]
  }
 ],
 "metadata": {
  "kernelspec": {
   "display_name": "venv-nlp-project",
   "language": "python",
   "name": "python3"
  },
  "language_info": {
   "codemirror_mode": {
    "name": "ipython",
    "version": 3
   },
   "file_extension": ".py",
   "mimetype": "text/x-python",
   "name": "python",
   "nbconvert_exporter": "python",
   "pygments_lexer": "ipython3",
   "version": "3.12.7"
  }
 },
 "nbformat": 4,
 "nbformat_minor": 5
}
