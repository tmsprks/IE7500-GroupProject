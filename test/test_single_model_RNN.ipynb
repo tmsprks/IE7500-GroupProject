{
 "cells": [
  {
   "cell_type": "code",
   "execution_count": 1,
   "id": "987907a4",
   "metadata": {},
   "outputs": [
    {
     "name": "stderr",
     "output_type": "stream",
     "text": [
      "C:\\Users\\dingg\\anaconda3\\envs\\tf_env\\lib\\site-packages\\tqdm\\auto.py:21: TqdmWarning: IProgress not found. Please update jupyter and ipywidgets. See https://ipywidgets.readthedocs.io/en/stable/user_install.html\n",
      "  from .autonotebook import tqdm as notebook_tqdm\n"
     ]
    }
   ],
   "source": [
    "import os\n",
    "import numpy as np\n",
    "import logging\n",
    "import inspect\n",
    "import re\n",
    "\n",
    "import tensorflow as tf\n",
    "from tensorflow.keras.preprocessing.text import Tokenizer\n",
    "from tensorflow.keras.preprocessing.sequence import pad_sequences\n",
    "from sklearn.metrics import accuracy_score, f1_score\n",
    "\n",
    "from SASentimentModel import SASentimentModel\n",
    "from kaggle_dataset import KaggleDataSet\n",
    "\n",
    "from sa_model_pipeline import SAModelPipeline\n",
    "from sa_model_config_loader import SAModelConfigLoader\n",
    "from sa_data_loader import SADataLoader\n",
    "from sa_model_params import SAModelParams\n",
    "from SASelfAttentionModel import SASelfAttentionModel\n",
    "from SARnnModel import SARnnModel"
   ]
  },
  {
   "cell_type": "code",
   "execution_count": 2,
   "id": "5863573c",
   "metadata": {},
   "outputs": [],
   "source": [
    "# Configure logging\n",
    "logging.basicConfig(level=logging.INFO, format='%(asctime)s - %(levelname)s - %(message)s')\n",
    "logger = logging.getLogger(__name__)"
   ]
  },
  {
   "cell_type": "code",
   "execution_count": 3,
   "id": "4e7ce4f0",
   "metadata": {},
   "outputs": [],
   "source": [
    "### Extract epoch number from checkpoint file\n",
    "### example: 'epoch03' will return 3, else 0 if no number is found\n",
    "\n",
    "def extract_initial_epoch_from_checkpoint(path):\n",
    "    match = re.search(r\"epoch(\\d+)\", path)\n",
    "    return int(match.group(1)) if match else 0"
   ]
  },
  {
   "cell_type": "code",
   "execution_count": 4,
   "id": "698a3c4d",
   "metadata": {},
   "outputs": [],
   "source": [
    "def main():\n",
    "\n",
    "    ### TOGGLE\n",
    "    \n",
    "    ### If no existing model to load, set LOAD_EXISTING_MODEL to False (train from scratch)\n",
    "    ### If there is an existing model to load, set LOAD_EXISTING_MODEL to True and load the CHECKPOINT_PATH\n",
    "    \n",
    "    LOAD_EXISTING_MODEL = False\n",
    "    CHECKPOINT_PATH = \"\"  # adjust to the saved keras model\n",
    "    \n",
    "    ### \n",
    "    ### To run your model, \n",
    "    ###\n",
    "    ### 1) Change model_module_name to match your model's module name, i.e., the file name\n",
    "    ### 2) Change model_class_name to match  your model's class name like SASelfAttentionModel\n",
    "    ### 3) Look for this line at the bottom of the method,\n",
    "    ###    sa_sentiment_model = SASelfAttentionModel(sa_model_params)\n",
    "    ###    Change SASelfAttentionModel to match your model's class.\n",
    "    ###    That's it.\n",
    "    ### 4) Then run this notebook from start to finish.\n",
    "    ###\n",
    "\n",
    "\n",
    "    ###\n",
    "    ### Modify model_module_name and model_class_name to match your model's \n",
    "    ### module and class name and then change the model instance to match your model class below\n",
    "    ###\n",
    "    model_module_name = \"SARnnModel\"\n",
    "    model_class_name = \"SARnnModel\"\n",
    "\n",
    "    ### Load the model configuration and then find the model specified above\n",
    "    sa_model_config_loader = SAModelConfigLoader()\n",
    "    list_of_model_config = sa_model_config_loader.load_model_config()\n",
    "    model_config = sa_model_config_loader.find_model_config(model_module_name, model_class_name)\n",
    "    \n",
    "    ###\n",
    "    ### Construct the path to the train, test and validation CSV file specified in the model config file\n",
    "    ### for the given model\n",
    "    ###\n",
    "    cwd = os.getcwd()        \n",
    "    train_file = model_config.get_model_train_csv_file_name()\n",
    "    test_file = model_config.get_model_test_csv_file_name()\n",
    "    validation_file = model_config.get_model_validation_csv_file_name()\n",
    "\n",
    "    path_to_train_csv_file = os.path.join(cwd, train_file)\n",
    "    path_to_test_csv_file = os.path.join(cwd, test_file)\n",
    "    path_to_validation_csv_file = os.path.join(cwd, validation_file)\n",
    "\n",
    "    ### Load the train, test and validation data file specific to the model\n",
    "    sa_data_loader = SADataLoader(path_to_train_csv_file, path_to_test_csv_file, path_to_validation_csv_file)\n",
    "    sa_data_loader.load_data(KaggleDataSet.get_kaggle_column_names())\n",
    "\n",
    "    ### Construct the model parameter object\n",
    "    sa_model_params = SAModelParams(sa_data_loader, model_config)\n",
    "    logger.info(f\"Start running model: {model_module_name}:{model_class_name}\") \n",
    "\n",
    "    ###\n",
    "    ### CHANGE THE MODEL TO YOUR MODEL CLASS!!\n",
    "    ### \n",
    "\n",
    "    sa_sentiment_model = SARnnModel(sa_model_params)\n",
    "    \n",
    "    ### Register model/preprocessing\n",
    "    sa_sentiment_model.register(sa_model_params)\n",
    "    sa_sentiment_model.preprocess(sa_model_params)\n",
    "    \n",
    "    ### Checkpoint\n",
    "    if LOAD_EXISTING_MODEL:\n",
    "        initial_epoch = extract_initial_epoch_from_checkpoint(CHECKPOINT_PATH) ### epoch number from checkpoint filename\n",
    "        sa_sentiment_model.load_model_from_file(CHECKPOINT_PATH) ### load saved model weights\n",
    "        logger.info(f\"Resuming training from epoch {initial_epoch}\")\n",
    "        sa_sentiment_model.fit(sa_model_params, resume_training=True, initial_epoch=initial_epoch) ### continue training\n",
    "        sa_sentiment_model.predict(sa_model_params)\n",
    "        sa_sentiment_model.evaluate(sa_model_params)\n",
    "    ### Call the SASentimentModel's run() which will run the model pipeline\n",
    "    else:\n",
    "        sa_sentiment_model.run(sa_model_params)\n",
    "        \n",
    "    ###\n",
    "    ###\n",
    "    ###\n",
    "\n",
    "\n",
    "    logger.info(f\"Finished running model: {sa_sentiment_model.__class__.__name__}\") \n"
   ]
  },
  {
   "cell_type": "code",
   "execution_count": 5,
   "id": "72349c3f",
   "metadata": {},
   "outputs": [
    {
     "name": "stdout",
     "output_type": "stream",
     "text": [
      "Transform set to: <bound method BinaryLabelTransformer.transform of <binary_label_transformer.BinaryLabelTransformer object at 0x0000019A0F230400>>, Type: <class 'method'>\n",
      "Path to train csv file: C:\\Users\\dingg\\IE 7500\\IE7500-GroupProject-main\\train_60K.csv\n",
      "Path to test csv file: C:\\Users\\dingg\\IE 7500\\IE7500-GroupProject-main\\test_20K.csv\n",
      "Path to validation csv file: C:\\Users\\dingg\\IE 7500\\IE7500-GroupProject-main\\validate_20K.csv\n"
     ]
    },
    {
     "name": "stderr",
     "output_type": "stream",
     "text": [
      "2025-06-26 16:58:49,075 - INFO - Start running model: SARnnModel:SARnnModel\n",
      "2025-06-26 16:58:49,076 - INFO - Calling SARnnModel.register(): RNN Sentiment Model/SARnnModel/SARnnModel/train_60K.csv/test_20K.csv/validate_20K.csv/{'vocab_size': 10000, 'sequence_length': 500, 'embedding_dim': 100, 'epoch': 5, 'batch_size': 32}\n",
      "2025-06-26 16:58:49,077 - INFO - SARnnModel.register(): Completed\n",
      "2025-06-26 16:58:49,078 - INFO - Calling SARnnModel.preprocess(): RNN Sentiment Model/SARnnModel/SARnnModel/train_60K.csv/test_20K.csv/validate_20K.csv/{'vocab_size': 10000, 'sequence_length': 500, 'embedding_dim': 100, 'epoch': 5, 'batch_size': 32}\n"
     ]
    },
    {
     "name": "stdout",
     "output_type": "stream",
     "text": [
      "Train size: 60000\n",
      "Test size: 20000\n",
      "Validation size: 20000\n"
     ]
    },
    {
     "name": "stderr",
     "output_type": "stream",
     "text": [
      "2025-06-26 16:58:57,625 - INFO - SARnnModel.preprocess(): Completed\n",
      "2025-06-26 16:58:57,627 - INFO - Calling SARnnModel.register(): RNN Sentiment Model/SARnnModel/SARnnModel/train_60K.csv/test_20K.csv/validate_20K.csv/{'vocab_size': 10000, 'sequence_length': 500, 'embedding_dim': 100, 'epoch': 5, 'batch_size': 32}\n",
      "2025-06-26 16:58:57,628 - INFO - SARnnModel.register(): Completed\n",
      "2025-06-26 16:58:57,629 - INFO - Calling SARnnModel.preprocess(): RNN Sentiment Model/SARnnModel/SARnnModel/train_60K.csv/test_20K.csv/validate_20K.csv/{'vocab_size': 10000, 'sequence_length': 500, 'embedding_dim': 100, 'epoch': 5, 'batch_size': 32}\n",
      "2025-06-26 16:59:06,506 - INFO - SARnnModel.preprocess(): Completed\n",
      "2025-06-26 16:59:06,508 - INFO - Starting fit; resume_training=False, initial_epoch=0\n",
      "2025-06-26 16:59:06,567 - INFO - Built and compiled new model\n"
     ]
    },
    {
     "name": "stdout",
     "output_type": "stream",
     "text": [
      "Epoch 1/5\n",
      "\u001b[1m1875/1875\u001b[0m \u001b[32m━━━━━━━━━━━━━━━━━━━━\u001b[0m\u001b[37m\u001b[0m \u001b[1m0s\u001b[0m 125ms/step - accuracy: 0.4984 - loss: 0.7058\n",
      "Epoch 1: saving model to model_checkpoint_epoch01_valacc0.5116.keras\n",
      "\u001b[1m1875/1875\u001b[0m \u001b[32m━━━━━━━━━━━━━━━━━━━━\u001b[0m\u001b[37m\u001b[0m \u001b[1m259s\u001b[0m 137ms/step - accuracy: 0.4984 - loss: 0.7058 - val_accuracy: 0.5116 - val_loss: 0.6959\n",
      "Epoch 2/5\n",
      "\u001b[1m1875/1875\u001b[0m \u001b[32m━━━━━━━━━━━━━━━━━━━━\u001b[0m\u001b[37m\u001b[0m \u001b[1m0s\u001b[0m 124ms/step - accuracy: 0.5154 - loss: 0.6952\n",
      "Epoch 2: saving model to model_checkpoint_epoch02_valacc0.5286.keras\n",
      "\u001b[1m1875/1875\u001b[0m \u001b[32m━━━━━━━━━━━━━━━━━━━━\u001b[0m\u001b[37m\u001b[0m \u001b[1m255s\u001b[0m 136ms/step - accuracy: 0.5154 - loss: 0.6952 - val_accuracy: 0.5286 - val_loss: 0.6925\n",
      "Epoch 3/5\n",
      "\u001b[1m1875/1875\u001b[0m \u001b[32m━━━━━━━━━━━━━━━━━━━━\u001b[0m\u001b[37m\u001b[0m \u001b[1m0s\u001b[0m 125ms/step - accuracy: 0.5254 - loss: 0.6925\n",
      "Epoch 3: saving model to model_checkpoint_epoch03_valacc0.5293.keras\n",
      "\u001b[1m1875/1875\u001b[0m \u001b[32m━━━━━━━━━━━━━━━━━━━━\u001b[0m\u001b[37m\u001b[0m \u001b[1m257s\u001b[0m 137ms/step - accuracy: 0.5254 - loss: 0.6925 - val_accuracy: 0.5293 - val_loss: 0.6917\n",
      "Epoch 4/5\n",
      "\u001b[1m1875/1875\u001b[0m \u001b[32m━━━━━━━━━━━━━━━━━━━━\u001b[0m\u001b[37m\u001b[0m \u001b[1m0s\u001b[0m 122ms/step - accuracy: 0.5331 - loss: 0.6914\n",
      "Epoch 4: saving model to model_checkpoint_epoch04_valacc0.5289.keras\n",
      "\u001b[1m1875/1875\u001b[0m \u001b[32m━━━━━━━━━━━━━━━━━━━━\u001b[0m\u001b[37m\u001b[0m \u001b[1m254s\u001b[0m 136ms/step - accuracy: 0.5331 - loss: 0.6914 - val_accuracy: 0.5289 - val_loss: 0.6917\n",
      "Epoch 5/5\n",
      "\u001b[1m1875/1875\u001b[0m \u001b[32m━━━━━━━━━━━━━━━━━━━━\u001b[0m\u001b[37m\u001b[0m \u001b[1m0s\u001b[0m 127ms/step - accuracy: 0.5283 - loss: 0.6915\n",
      "Epoch 5: saving model to model_checkpoint_epoch05_valacc0.5202.keras\n",
      "\u001b[1m1875/1875\u001b[0m \u001b[32m━━━━━━━━━━━━━━━━━━━━\u001b[0m\u001b[37m\u001b[0m \u001b[1m262s\u001b[0m 140ms/step - accuracy: 0.5283 - loss: 0.6915 - val_accuracy: 0.5202 - val_loss: 0.6936\n"
     ]
    },
    {
     "name": "stderr",
     "output_type": "stream",
     "text": [
      "2025-06-26 17:20:33,151 - INFO - Best val_accuracy: 0.5293 at epoch 5\n",
      "2025-06-26 17:20:33,153 - INFO - SARnnModel.fit(): Model fitted\n",
      "2025-06-26 17:20:33,154 - INFO - SARnnModel.fit(): Completed\n"
     ]
    },
    {
     "data": {
      "text/html": [
       "<pre style=\"white-space:pre;overflow-x:auto;line-height:normal;font-family:Menlo,'DejaVu Sans Mono',consolas,'Courier New',monospace\"><span style=\"font-weight: bold\">Model: \"sequential\"</span>\n",
       "</pre>\n"
      ],
      "text/plain": [
       "\u001b[1mModel: \"sequential\"\u001b[0m\n"
      ]
     },
     "metadata": {},
     "output_type": "display_data"
    },
    {
     "data": {
      "text/html": [
       "<pre style=\"white-space:pre;overflow-x:auto;line-height:normal;font-family:Menlo,'DejaVu Sans Mono',consolas,'Courier New',monospace\">┏━━━━━━━━━━━━━━━━━━━━━━━━━━━━━━━━━━━━━━┳━━━━━━━━━━━━━━━━━━━━━━━━━━━━━┳━━━━━━━━━━━━━━━━━┓\n",
       "┃<span style=\"font-weight: bold\"> Layer (type)                         </span>┃<span style=\"font-weight: bold\"> Output Shape                </span>┃<span style=\"font-weight: bold\">         Param # </span>┃\n",
       "┡━━━━━━━━━━━━━━━━━━━━━━━━━━━━━━━━━━━━━━╇━━━━━━━━━━━━━━━━━━━━━━━━━━━━━╇━━━━━━━━━━━━━━━━━┩\n",
       "│ embedding (<span style=\"color: #0087ff; text-decoration-color: #0087ff\">Embedding</span>)                │ (<span style=\"color: #00af00; text-decoration-color: #00af00\">32</span>, <span style=\"color: #00af00; text-decoration-color: #00af00\">500</span>, <span style=\"color: #00af00; text-decoration-color: #00af00\">100</span>)              │       <span style=\"color: #00af00; text-decoration-color: #00af00\">1,000,000</span> │\n",
       "├──────────────────────────────────────┼─────────────────────────────┼─────────────────┤\n",
       "│ simple_rnn (<span style=\"color: #0087ff; text-decoration-color: #0087ff\">SimpleRNN</span>)               │ (<span style=\"color: #00af00; text-decoration-color: #00af00\">32</span>, <span style=\"color: #00af00; text-decoration-color: #00af00\">500</span>, <span style=\"color: #00af00; text-decoration-color: #00af00\">64</span>)               │          <span style=\"color: #00af00; text-decoration-color: #00af00\">10,560</span> │\n",
       "├──────────────────────────────────────┼─────────────────────────────┼─────────────────┤\n",
       "│ dropout (<span style=\"color: #0087ff; text-decoration-color: #0087ff\">Dropout</span>)                    │ (<span style=\"color: #00af00; text-decoration-color: #00af00\">32</span>, <span style=\"color: #00af00; text-decoration-color: #00af00\">500</span>, <span style=\"color: #00af00; text-decoration-color: #00af00\">64</span>)               │               <span style=\"color: #00af00; text-decoration-color: #00af00\">0</span> │\n",
       "├──────────────────────────────────────┼─────────────────────────────┼─────────────────┤\n",
       "│ simple_rnn_1 (<span style=\"color: #0087ff; text-decoration-color: #0087ff\">SimpleRNN</span>)             │ (<span style=\"color: #00af00; text-decoration-color: #00af00\">32</span>, <span style=\"color: #00af00; text-decoration-color: #00af00\">64</span>)                    │           <span style=\"color: #00af00; text-decoration-color: #00af00\">8,256</span> │\n",
       "├──────────────────────────────────────┼─────────────────────────────┼─────────────────┤\n",
       "│ dropout_1 (<span style=\"color: #0087ff; text-decoration-color: #0087ff\">Dropout</span>)                  │ (<span style=\"color: #00af00; text-decoration-color: #00af00\">32</span>, <span style=\"color: #00af00; text-decoration-color: #00af00\">64</span>)                    │               <span style=\"color: #00af00; text-decoration-color: #00af00\">0</span> │\n",
       "├──────────────────────────────────────┼─────────────────────────────┼─────────────────┤\n",
       "│ dense (<span style=\"color: #0087ff; text-decoration-color: #0087ff\">Dense</span>)                        │ (<span style=\"color: #00af00; text-decoration-color: #00af00\">32</span>, <span style=\"color: #00af00; text-decoration-color: #00af00\">64</span>)                    │           <span style=\"color: #00af00; text-decoration-color: #00af00\">4,160</span> │\n",
       "├──────────────────────────────────────┼─────────────────────────────┼─────────────────┤\n",
       "│ dense_1 (<span style=\"color: #0087ff; text-decoration-color: #0087ff\">Dense</span>)                      │ (<span style=\"color: #00af00; text-decoration-color: #00af00\">32</span>, <span style=\"color: #00af00; text-decoration-color: #00af00\">1</span>)                     │              <span style=\"color: #00af00; text-decoration-color: #00af00\">65</span> │\n",
       "└──────────────────────────────────────┴─────────────────────────────┴─────────────────┘\n",
       "</pre>\n"
      ],
      "text/plain": [
       "┏━━━━━━━━━━━━━━━━━━━━━━━━━━━━━━━━━━━━━━┳━━━━━━━━━━━━━━━━━━━━━━━━━━━━━┳━━━━━━━━━━━━━━━━━┓\n",
       "┃\u001b[1m \u001b[0m\u001b[1mLayer (type)                        \u001b[0m\u001b[1m \u001b[0m┃\u001b[1m \u001b[0m\u001b[1mOutput Shape               \u001b[0m\u001b[1m \u001b[0m┃\u001b[1m \u001b[0m\u001b[1m        Param #\u001b[0m\u001b[1m \u001b[0m┃\n",
       "┡━━━━━━━━━━━━━━━━━━━━━━━━━━━━━━━━━━━━━━╇━━━━━━━━━━━━━━━━━━━━━━━━━━━━━╇━━━━━━━━━━━━━━━━━┩\n",
       "│ embedding (\u001b[38;5;33mEmbedding\u001b[0m)                │ (\u001b[38;5;34m32\u001b[0m, \u001b[38;5;34m500\u001b[0m, \u001b[38;5;34m100\u001b[0m)              │       \u001b[38;5;34m1,000,000\u001b[0m │\n",
       "├──────────────────────────────────────┼─────────────────────────────┼─────────────────┤\n",
       "│ simple_rnn (\u001b[38;5;33mSimpleRNN\u001b[0m)               │ (\u001b[38;5;34m32\u001b[0m, \u001b[38;5;34m500\u001b[0m, \u001b[38;5;34m64\u001b[0m)               │          \u001b[38;5;34m10,560\u001b[0m │\n",
       "├──────────────────────────────────────┼─────────────────────────────┼─────────────────┤\n",
       "│ dropout (\u001b[38;5;33mDropout\u001b[0m)                    │ (\u001b[38;5;34m32\u001b[0m, \u001b[38;5;34m500\u001b[0m, \u001b[38;5;34m64\u001b[0m)               │               \u001b[38;5;34m0\u001b[0m │\n",
       "├──────────────────────────────────────┼─────────────────────────────┼─────────────────┤\n",
       "│ simple_rnn_1 (\u001b[38;5;33mSimpleRNN\u001b[0m)             │ (\u001b[38;5;34m32\u001b[0m, \u001b[38;5;34m64\u001b[0m)                    │           \u001b[38;5;34m8,256\u001b[0m │\n",
       "├──────────────────────────────────────┼─────────────────────────────┼─────────────────┤\n",
       "│ dropout_1 (\u001b[38;5;33mDropout\u001b[0m)                  │ (\u001b[38;5;34m32\u001b[0m, \u001b[38;5;34m64\u001b[0m)                    │               \u001b[38;5;34m0\u001b[0m │\n",
       "├──────────────────────────────────────┼─────────────────────────────┼─────────────────┤\n",
       "│ dense (\u001b[38;5;33mDense\u001b[0m)                        │ (\u001b[38;5;34m32\u001b[0m, \u001b[38;5;34m64\u001b[0m)                    │           \u001b[38;5;34m4,160\u001b[0m │\n",
       "├──────────────────────────────────────┼─────────────────────────────┼─────────────────┤\n",
       "│ dense_1 (\u001b[38;5;33mDense\u001b[0m)                      │ (\u001b[38;5;34m32\u001b[0m, \u001b[38;5;34m1\u001b[0m)                     │              \u001b[38;5;34m65\u001b[0m │\n",
       "└──────────────────────────────────────┴─────────────────────────────┴─────────────────┘\n"
      ]
     },
     "metadata": {},
     "output_type": "display_data"
    },
    {
     "data": {
      "text/html": [
       "<pre style=\"white-space:pre;overflow-x:auto;line-height:normal;font-family:Menlo,'DejaVu Sans Mono',consolas,'Courier New',monospace\"><span style=\"font-weight: bold\"> Total params: </span><span style=\"color: #00af00; text-decoration-color: #00af00\">3,069,125</span> (11.71 MB)\n",
       "</pre>\n"
      ],
      "text/plain": [
       "\u001b[1m Total params: \u001b[0m\u001b[38;5;34m3,069,125\u001b[0m (11.71 MB)\n"
      ]
     },
     "metadata": {},
     "output_type": "display_data"
    },
    {
     "data": {
      "text/html": [
       "<pre style=\"white-space:pre;overflow-x:auto;line-height:normal;font-family:Menlo,'DejaVu Sans Mono',consolas,'Courier New',monospace\"><span style=\"font-weight: bold\"> Trainable params: </span><span style=\"color: #00af00; text-decoration-color: #00af00\">1,023,041</span> (3.90 MB)\n",
       "</pre>\n"
      ],
      "text/plain": [
       "\u001b[1m Trainable params: \u001b[0m\u001b[38;5;34m1,023,041\u001b[0m (3.90 MB)\n"
      ]
     },
     "metadata": {},
     "output_type": "display_data"
    },
    {
     "data": {
      "text/html": [
       "<pre style=\"white-space:pre;overflow-x:auto;line-height:normal;font-family:Menlo,'DejaVu Sans Mono',consolas,'Courier New',monospace\"><span style=\"font-weight: bold\"> Non-trainable params: </span><span style=\"color: #00af00; text-decoration-color: #00af00\">0</span> (0.00 B)\n",
       "</pre>\n"
      ],
      "text/plain": [
       "\u001b[1m Non-trainable params: \u001b[0m\u001b[38;5;34m0\u001b[0m (0.00 B)\n"
      ]
     },
     "metadata": {},
     "output_type": "display_data"
    },
    {
     "data": {
      "text/html": [
       "<pre style=\"white-space:pre;overflow-x:auto;line-height:normal;font-family:Menlo,'DejaVu Sans Mono',consolas,'Courier New',monospace\"><span style=\"font-weight: bold\"> Optimizer params: </span><span style=\"color: #00af00; text-decoration-color: #00af00\">2,046,084</span> (7.81 MB)\n",
       "</pre>\n"
      ],
      "text/plain": [
       "\u001b[1m Optimizer params: \u001b[0m\u001b[38;5;34m2,046,084\u001b[0m (7.81 MB)\n"
      ]
     },
     "metadata": {},
     "output_type": "display_data"
    },
    {
     "name": "stderr",
     "output_type": "stream",
     "text": [
      "2025-06-26 17:20:33,183 - INFO - Calling SARnnModel.predict(): RNN Sentiment Model/SARnnModel/SARnnModel/train_60K.csv/test_20K.csv/validate_20K.csv/{'vocab_size': 10000, 'sequence_length': 500, 'embedding_dim': 100, 'epoch': 5, 'batch_size': 32}\n"
     ]
    },
    {
     "name": "stdout",
     "output_type": "stream",
     "text": [
      "\u001b[1m625/625\u001b[0m \u001b[32m━━━━━━━━━━━━━━━━━━━━\u001b[0m\u001b[37m\u001b[0m \u001b[1m23s\u001b[0m 36ms/step\n"
     ]
    },
    {
     "name": "stderr",
     "output_type": "stream",
     "text": [
      "2025-06-26 17:20:56,368 - INFO - SARnnModel.predict(): Completed\n",
      "2025-06-26 17:20:56,368 - INFO - Calling SARnnModel.evaluate(): RNN Sentiment Model/SARnnModel/SARnnModel/train_60K.csv/test_20K.csv/validate_20K.csv/{'vocab_size': 10000, 'sequence_length': 500, 'embedding_dim': 100, 'epoch': 5, 'batch_size': 32}\n"
     ]
    },
    {
     "name": "stdout",
     "output_type": "stream",
     "text": [
      "              precision    recall  f1-score   support\n",
      "\n",
      "           0       0.52      0.63      0.57     10000\n",
      "           1       0.53      0.41      0.46     10000\n",
      "\n",
      "    accuracy                           0.52     20000\n",
      "   macro avg       0.52      0.52      0.51     20000\n",
      "weighted avg       0.52      0.52      0.51     20000\n",
      "\n",
      "\u001b[1m625/625\u001b[0m \u001b[32m━━━━━━━━━━━━━━━━━━━━\u001b[0m\u001b[37m\u001b[0m \u001b[1m23s\u001b[0m 36ms/step - accuracy: 0.6008 - loss: 0.7090\n"
     ]
    },
    {
     "name": "stderr",
     "output_type": "stream",
     "text": [
      "2025-06-26 17:21:19,149 - INFO - SARnnModel.evaluate(): Accuracy: 0.5201500058174133, Loss: 0.6935680508613586\n",
      "2025-06-26 17:21:19,150 - INFO - SARnnModel.evaluate(): Completed\n",
      "2025-06-26 17:21:19,151 - INFO - Finished running model: SARnnModel\n"
     ]
    }
   ],
   "source": [
    "if __name__ == \"__main__\":\n",
    "    main()"
   ]
  },
  {
   "cell_type": "code",
   "execution_count": null,
   "id": "9d4eb4a4",
   "metadata": {},
   "outputs": [],
   "source": []
  }
 ],
 "metadata": {
  "kernelspec": {
   "display_name": "Python (tf_env)",
   "language": "python",
   "name": "tf_env"
  },
  "language_info": {
   "codemirror_mode": {
    "name": "ipython",
    "version": 3
   },
   "file_extension": ".py",
   "mimetype": "text/x-python",
   "name": "python",
   "nbconvert_exporter": "python",
   "pygments_lexer": "ipython3",
   "version": "3.10.16"
  }
 },
 "nbformat": 4,
 "nbformat_minor": 5
}
