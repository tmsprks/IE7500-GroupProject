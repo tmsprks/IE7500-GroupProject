{
 "cells": [
  {
   "cell_type": "markdown",
   "id": "92c612ea",
   "metadata": {},
   "source": []
  },
  {
   "cell_type": "code",
   "execution_count": 1,
   "id": "987907a4",
   "metadata": {},
   "outputs": [
    {
     "name": "stderr",
     "output_type": "stream",
     "text": [
      "C:\\Users\\dingg\\anaconda3\\envs\\tf_env\\lib\\site-packages\\tqdm\\auto.py:21: TqdmWarning: IProgress not found. Please update jupyter and ipywidgets. See https://ipywidgets.readthedocs.io/en/stable/user_install.html\n",
      "  from .autonotebook import tqdm as notebook_tqdm\n"
     ]
    }
   ],
   "source": [
    "import os\n",
    "import numpy as np\n",
    "import logging\n",
    "import inspect\n",
    "import re\n",
    "\n",
    "import tensorflow as tf\n",
    "from tensorflow.keras.preprocessing.text import Tokenizer\n",
    "from tensorflow.keras.preprocessing.sequence import pad_sequences\n",
    "from sklearn.metrics import accuracy_score, f1_score\n",
    "\n",
    "from SASentimentModel import SASentimentModel\n",
    "from kaggle_dataset import KaggleDataSet\n",
    "\n",
    "from sa_model_pipeline import SAModelPipeline\n",
    "from sa_model_config_loader import SAModelConfigLoader\n",
    "from sa_data_loader import SADataLoader\n",
    "from sa_model_params import SAModelParams\n",
    "from SASelfAttentionModel import SASelfAttentionModel\n",
    "from SARnnModel import SARnnModel"
   ]
  },
  {
   "cell_type": "code",
   "execution_count": 2,
   "id": "5863573c",
   "metadata": {},
   "outputs": [],
   "source": [
    "# Configure logging\n",
    "logging.basicConfig(level=logging.INFO, format='%(asctime)s - %(levelname)s - %(message)s')\n",
    "logger = logging.getLogger(__name__)"
   ]
  },
  {
   "cell_type": "code",
   "execution_count": 3,
   "id": "282b2524",
   "metadata": {},
   "outputs": [],
   "source": [
    "### Extract epoch number from checkpoint file\n",
    "### example: 'epoch03' will return 3, else 0 if no number is found\n",
    "\n",
    "def extract_initial_epoch_from_checkpoint(path):\n",
    "    match = re.search(r\"epoch(\\d+)\", path)\n",
    "    return int(match.group(1)) if match else 0"
   ]
  },
  {
   "cell_type": "code",
   "execution_count": 4,
   "id": "698a3c4d",
   "metadata": {},
   "outputs": [],
   "source": [
    "def main():\n",
    "\n",
    "    ### TOGGLE\n",
    "    \n",
    "    ### If no existing model to load, set LOAD_EXISTING_MODEL to False (train from scratch)\n",
    "    ### If there is an existing model to load, set LOAD_EXISTING_MODEL to True and load the CHECKPOINT_PATH\n",
    "    \n",
    "    LOAD_EXISTING_MODEL = True\n",
    "    CHECKPOINT_PATH = \"model_checkpoint_epoch02_valacc0.5286.keras\"  # adjust to the saved keras model\n",
    "    \n",
    "    ### \n",
    "    ### To run your model, \n",
    "    ###\n",
    "    ### 1) Change model_module_name to match your model's module name, i.e., the file name\n",
    "    ### 2) Change model_class_name to match  your model's class name like SASelfAttentionModel\n",
    "    ### 3) Look for this line at the bottom of the method,\n",
    "    ###    sa_sentiment_model = SASelfAttentionModel(sa_model_params)\n",
    "    ###    Change SASelfAttentionModel to match your model's class.\n",
    "    ###    That's it.\n",
    "    ### 4) Then run this notebook from start to finish.\n",
    "    ###\n",
    "\n",
    "\n",
    "    ###\n",
    "    ### Modify model_module_name and model_class_name to match your model's \n",
    "    ### module and class name and then change the model instance to match your model class below\n",
    "    ###\n",
    "    model_module_name = \"SARnnModel\"\n",
    "    model_class_name = \"SARnnModel\"\n",
    "\n",
    "    ### Load the model configuration and then find the model specified above\n",
    "    sa_model_config_loader = SAModelConfigLoader()\n",
    "    list_of_model_config = sa_model_config_loader.load_model_config()\n",
    "    model_config = sa_model_config_loader.find_model_config(model_module_name, model_class_name)\n",
    "    \n",
    "    ###\n",
    "    ### Construct the path to the train, test and validation CSV file specified in the model config file\n",
    "    ### for the given model\n",
    "    ###\n",
    "    cwd = os.getcwd()        \n",
    "    train_file = model_config.get_model_train_csv_file_name()\n",
    "    test_file = model_config.get_model_test_csv_file_name()\n",
    "    validation_file = model_config.get_model_validation_csv_file_name()\n",
    "\n",
    "    path_to_train_csv_file = os.path.join(cwd, train_file)\n",
    "    path_to_test_csv_file = os.path.join(cwd, test_file)\n",
    "    path_to_validation_csv_file = os.path.join(cwd, validation_file)\n",
    "\n",
    "    ### Load the train, test and validation data file specific to the model\n",
    "    sa_data_loader = SADataLoader(path_to_train_csv_file, path_to_test_csv_file, path_to_validation_csv_file)\n",
    "    sa_data_loader.load_data(KaggleDataSet.get_kaggle_column_names())\n",
    "\n",
    "    ### Construct the model parameter object\n",
    "    sa_model_params = SAModelParams(sa_data_loader, model_config)\n",
    "    logger.info(f\"Start running model: {model_module_name}:{model_class_name}\") \n",
    "\n",
    "    ###\n",
    "    ### CHANGE THE MODEL TO YOUR MODEL CLASS!!\n",
    "    ### \n",
    "\n",
    "    sa_sentiment_model = SARnnModel(sa_model_params)\n",
    "    \n",
    "    ### Register model/preprocessing\n",
    "    sa_sentiment_model.register(sa_model_params)\n",
    "    sa_sentiment_model.preprocess(sa_model_params)\n",
    "    \n",
    "    ### Checkpoint\n",
    "    if LOAD_EXISTING_MODEL:\n",
    "        initial_epoch = extract_initial_epoch_from_checkpoint(CHECKPOINT_PATH) ### epoch number from checkpoint filename\n",
    "        sa_sentiment_model.load_model_from_file(CHECKPOINT_PATH) ### load saved model weights\n",
    "        logger.info(f\"Resuming training from epoch {initial_epoch}\")\n",
    "        sa_sentiment_model.fit(sa_model_params, resume_training=True, initial_epoch=initial_epoch) ### continue training\n",
    "        sa_sentiment_model.predict(sa_model_params)\n",
    "        sa_sentiment_model.evaluate(sa_model_params)\n",
    "    ### Call the SASentimentModel's run() which will run the model pipeline\n",
    "    else:\n",
    "        sa_sentiment_model.run(sa_model_params)\n",
    "    ###\n",
    "    ###\n",
    "    ###\n",
    "\n",
    "\n",
    "    logger.info(f\"Finished running model: {sa_sentiment_model.__class__.__name__}\") \n"
   ]
  },
  {
   "cell_type": "code",
   "execution_count": 5,
   "id": "72349c3f",
   "metadata": {},
   "outputs": [
    {
     "name": "stdout",
     "output_type": "stream",
     "text": [
      "Transform set to: <bound method BinaryLabelTransformer.transform of <binary_label_transformer.BinaryLabelTransformer object at 0x000001EFFFEC8430>>, Type: <class 'method'>\n",
      "Path to train csv file: C:\\Users\\dingg\\IE 7500\\IE7500-GroupProject-main\\train_60K.csv\n",
      "Path to test csv file: C:\\Users\\dingg\\IE 7500\\IE7500-GroupProject-main\\test_20K.csv\n",
      "Path to validation csv file: C:\\Users\\dingg\\IE 7500\\IE7500-GroupProject-main\\validate_20K.csv\n",
      "Train size: 60000\n",
      "Test size: 20000\n",
      "Validation size: 20000\n"
     ]
    },
    {
     "name": "stderr",
     "output_type": "stream",
     "text": [
      "2025-06-26 18:37:14,863 - INFO - Start running model: SARnnModel:SARnnModel\n",
      "2025-06-26 18:37:14,864 - INFO - Calling SARnnModel.register(): RNN Sentiment Model/SARnnModel/SARnnModel/train_60K.csv/test_20K.csv/validate_20K.csv/{'vocab_size': 10000, 'sequence_length': 500, 'embedding_dim': 100, 'epoch': 5, 'batch_size': 32}\n",
      "2025-06-26 18:37:14,864 - INFO - SARnnModel.register(): Completed\n",
      "2025-06-26 18:37:14,865 - INFO - Calling SARnnModel.preprocess(): RNN Sentiment Model/SARnnModel/SARnnModel/train_60K.csv/test_20K.csv/validate_20K.csv/{'vocab_size': 10000, 'sequence_length': 500, 'embedding_dim': 100, 'epoch': 5, 'batch_size': 32}\n",
      "2025-06-26 18:37:23,073 - INFO - SARnnModel.preprocess(): Completed\n",
      "2025-06-26 18:37:23,075 - INFO - Loading model from model_checkpoint_epoch02_valacc0.5286.keras\n",
      "2025-06-26 18:37:23,298 - INFO - Model loaded and compiled successfully\n",
      "2025-06-26 18:37:23,299 - INFO - Resuming training from epoch 2\n",
      "2025-06-26 18:37:23,300 - INFO - Starting fit; resume_training=True, initial_epoch=2\n"
     ]
    },
    {
     "name": "stdout",
     "output_type": "stream",
     "text": [
      "Epoch 3/5\n",
      "\u001b[1m1875/1875\u001b[0m \u001b[32m━━━━━━━━━━━━━━━━━━━━\u001b[0m\u001b[37m\u001b[0m \u001b[1m0s\u001b[0m 111ms/step - accuracy: 0.5085 - loss: 0.6938\n",
      "Epoch 3: saving model to model_checkpoint_epoch03_valacc0.5134.keras\n",
      "\u001b[1m1875/1875\u001b[0m \u001b[32m━━━━━━━━━━━━━━━━━━━━\u001b[0m\u001b[37m\u001b[0m \u001b[1m230s\u001b[0m 121ms/step - accuracy: 0.5085 - loss: 0.6938 - val_accuracy: 0.5134 - val_loss: 0.6918\n",
      "Epoch 4/5\n",
      "\u001b[1m1875/1875\u001b[0m \u001b[32m━━━━━━━━━━━━━━━━━━━━\u001b[0m\u001b[37m\u001b[0m \u001b[1m0s\u001b[0m 113ms/step - accuracy: 0.5222 - loss: 0.6919\n",
      "Epoch 4: saving model to model_checkpoint_epoch04_valacc0.5000.keras\n",
      "\u001b[1m1875/1875\u001b[0m \u001b[32m━━━━━━━━━━━━━━━━━━━━\u001b[0m\u001b[37m\u001b[0m \u001b[1m234s\u001b[0m 125ms/step - accuracy: 0.5222 - loss: 0.6919 - val_accuracy: 0.5000 - val_loss: 0.6928\n",
      "Epoch 5/5\n",
      "\u001b[1m1875/1875\u001b[0m \u001b[32m━━━━━━━━━━━━━━━━━━━━\u001b[0m\u001b[37m\u001b[0m \u001b[1m0s\u001b[0m 112ms/step - accuracy: 0.5233 - loss: 0.6923\n",
      "Epoch 5: saving model to model_checkpoint_epoch05_valacc0.5248.keras\n",
      "\u001b[1m1875/1875\u001b[0m \u001b[32m━━━━━━━━━━━━━━━━━━━━\u001b[0m\u001b[37m\u001b[0m \u001b[1m231s\u001b[0m 123ms/step - accuracy: 0.5233 - loss: 0.6923 - val_accuracy: 0.5248 - val_loss: 0.6925\n"
     ]
    },
    {
     "name": "stderr",
     "output_type": "stream",
     "text": [
      "2025-06-26 18:48:58,337 - INFO - Best val_accuracy: 0.5248 at epoch 5\n",
      "2025-06-26 18:48:58,338 - INFO - SARnnModel.fit(): Model fitted\n",
      "2025-06-26 18:48:58,339 - INFO - SARnnModel.fit(): Completed\n",
      "2025-06-26 18:48:58,339 - INFO - Calling SARnnModel.predict(): RNN Sentiment Model/SARnnModel/SARnnModel/train_60K.csv/test_20K.csv/validate_20K.csv/{'vocab_size': 10000, 'sequence_length': 500, 'embedding_dim': 100, 'epoch': 5, 'batch_size': 32}\n"
     ]
    },
    {
     "name": "stdout",
     "output_type": "stream",
     "text": [
      "\u001b[1m625/625\u001b[0m \u001b[32m━━━━━━━━━━━━━━━━━━━━\u001b[0m\u001b[37m\u001b[0m \u001b[1m20s\u001b[0m 31ms/step\n"
     ]
    },
    {
     "name": "stderr",
     "output_type": "stream",
     "text": [
      "2025-06-26 18:49:18,469 - INFO - SARnnModel.predict(): Completed\n",
      "2025-06-26 18:49:18,471 - INFO - Calling SARnnModel.evaluate(): RNN Sentiment Model/SARnnModel/SARnnModel/train_60K.csv/test_20K.csv/validate_20K.csv/{'vocab_size': 10000, 'sequence_length': 500, 'embedding_dim': 100, 'epoch': 5, 'batch_size': 32}\n"
     ]
    },
    {
     "name": "stdout",
     "output_type": "stream",
     "text": [
      "              precision    recall  f1-score   support\n",
      "\n",
      "           0       0.54      0.34      0.42     10000\n",
      "           1       0.52      0.71      0.60     10000\n",
      "\n",
      "    accuracy                           0.52     20000\n",
      "   macro avg       0.53      0.52      0.51     20000\n",
      "weighted avg       0.53      0.52      0.51     20000\n",
      "\n",
      "\u001b[1m625/625\u001b[0m \u001b[32m━━━━━━━━━━━━━━━━━━━━\u001b[0m\u001b[37m\u001b[0m \u001b[1m22s\u001b[0m 35ms/step - accuracy: 0.4016 - loss: 0.7133\n"
     ]
    },
    {
     "name": "stderr",
     "output_type": "stream",
     "text": [
      "2025-06-26 18:49:40,219 - INFO - SARnnModel.evaluate(): Accuracy: 0.5248000025749207, Loss: 0.692497730255127\n",
      "2025-06-26 18:49:40,220 - INFO - SARnnModel.evaluate(): Completed\n",
      "2025-06-26 18:49:40,221 - INFO - Finished running model: SARnnModel\n"
     ]
    }
   ],
   "source": [
    "if __name__ == \"__main__\":\n",
    "    main()"
   ]
  },
  {
   "cell_type": "code",
   "execution_count": null,
   "id": "0e8664d3",
   "metadata": {},
   "outputs": [],
   "source": []
  }
 ],
 "metadata": {
  "kernelspec": {
   "display_name": "Python (tf_env)",
   "language": "python",
   "name": "tf_env"
  },
  "language_info": {
   "codemirror_mode": {
    "name": "ipython",
    "version": 3
   },
   "file_extension": ".py",
   "mimetype": "text/x-python",
   "name": "python",
   "nbconvert_exporter": "python",
   "pygments_lexer": "ipython3",
   "version": "3.10.16"
  }
 },
 "nbformat": 4,
 "nbformat_minor": 5
}
