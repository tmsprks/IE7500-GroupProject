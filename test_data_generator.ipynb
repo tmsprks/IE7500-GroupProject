{
 "cells": [
  {
   "cell_type": "code",
   "execution_count": 1,
   "id": "afec2d68",
   "metadata": {},
   "outputs": [
    {
     "name": "stderr",
     "output_type": "stream",
     "text": [
      "e:\\life\\edu\\NU-DAE\\IE 7500 - NLP\\proj\\venv-nlp-project\\Lib\\site-packages\\tqdm\\auto.py:21: TqdmWarning: IProgress not found. Please update jupyter and ipywidgets. See https://ipywidgets.readthedocs.io/en/stable/user_install.html\n",
      "  from .autonotebook import tqdm as notebook_tqdm\n"
     ]
    }
   ],
   "source": [
    "from data_generator import DataGenerator\n",
    "from kaggle_data_loader import KaggleDataLoader"
   ]
  },
  {
   "cell_type": "code",
   "execution_count": null,
   "id": "06265db0",
   "metadata": {},
   "outputs": [
    {
     "name": "stdout",
     "output_type": "stream",
     "text": [
      "Path to dataset files: C:\\Users\\hOm3b\\.cache\\kagglehub\\datasets\\kritanjalijain\\amazon-reviews\\versions\\2\n",
      "C:\\Users\\hOm3b\\.cache\\kagglehub\\datasets\\kritanjalijain\\amazon-reviews\\versions\\2\n",
      "['amazon_review_polarity_csv.tgz', 'test.csv', 'train.csv']\n",
      "\n",
      "Processing train_20K.csv from train dataset\n",
      "Label counts:\n",
      " Label\n",
      "2    1800000\n",
      "1    1800000\n",
      "Name: count, dtype: int64\n",
      "Downsampled dataset saved to 'train_20K.csv'\n",
      "Downsampled dataset label counts:\n",
      " Label\n",
      "2    10000\n",
      "1    10000\n",
      "Name: count, dtype: int64\n",
      "Downsampled dataset size: (20000, 3)\n",
      "\n",
      "Processing train_80K.csv from train dataset\n",
      "Label counts:\n",
      " Label\n",
      "2    1800000\n",
      "1    1800000\n",
      "Name: count, dtype: int64\n",
      "Downsampled dataset saved to 'train_80K.csv'\n",
      "Downsampled dataset label counts:\n",
      " Label\n",
      "2    40000\n",
      "1    40000\n",
      "Name: count, dtype: int64\n",
      "Downsampled dataset size: (80000, 3)\n",
      "\n",
      "Generated train_20K.csv with 20000 rows.\n",
      "\n",
      "Generated train_80K.csv with 80000 rows.\n"
     ]
    }
   ],
   "source": [
    "# Example usage:\n",
    "if __name__ == \"__main__\":\n",
    "\n",
    "    kaggle_path = \"kritanjalijain/amazon-reviews\"\n",
    "    column_names = [DataGenerator.POLARITY_COLUMN_NAME, \n",
    "                    DataGenerator.TITLE_COLUMN_NAME, \n",
    "                    DataGenerator.REVIEW_COLUMN_NAME]\n",
    "    kaggle_data_loader = KaggleDataLoader(kaggle_path)\n",
    "    kaggle_data_loader.load_data(column_names)\n",
    "\n",
    "    train_df = kaggle_data_loader.get_train_df()\n",
    "    test_df = kaggle_data_loader.get_test_df()\n",
    "\n",
    "    generator = DataGenerator(train_df, test_df, None)\n",
    "    results = generator.generate_datasets(ensure_uniqueness=True)\n",
    "    \n",
    "    # Print results\n",
    "    for output_file, df in results:\n",
    "        print(f\"\\nGenerated {output_file} with {len(df)} rows.\")"
   ]
  }
 ],
 "metadata": {
  "kernelspec": {
   "display_name": "venv-nlp-project",
   "language": "python",
   "name": "python3"
  },
  "language_info": {
   "codemirror_mode": {
    "name": "ipython",
    "version": 3
   },
   "file_extension": ".py",
   "mimetype": "text/x-python",
   "name": "python",
   "nbconvert_exporter": "python",
   "pygments_lexer": "ipython3",
   "version": "3.12.7"
  }
 },
 "nbformat": 4,
 "nbformat_minor": 5
}
