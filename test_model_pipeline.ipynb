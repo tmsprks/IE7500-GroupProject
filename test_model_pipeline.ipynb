{
 "cells": [
  {
   "cell_type": "code",
   "execution_count": 1,
   "id": "afec2d68",
   "metadata": {},
   "outputs": [
    {
     "name": "stderr",
     "output_type": "stream",
     "text": [
      "e:\\life\\edu\\NU-DAE\\IE 7500 - NLP\\proj\\venv-nlp-project\\Lib\\site-packages\\tqdm\\auto.py:21: TqdmWarning: IProgress not found. Please update jupyter and ipywidgets. See https://ipywidgets.readthedocs.io/en/stable/user_install.html\n",
      "  from .autonotebook import tqdm as notebook_tqdm\n"
     ]
    }
   ],
   "source": [
    "import logging\n",
    "\n",
    "from sa_model_pipeline import SAModelPipeline"
   ]
  },
  {
   "cell_type": "code",
   "execution_count": 2,
   "id": "c6ee74ff",
   "metadata": {},
   "outputs": [],
   "source": [
    "# Configure logging\n",
    "logging.basicConfig(level=logging.INFO, format='%(asctime)s - %(levelname)s - %(message)s')\n",
    "logger = logging.getLogger(__name__)"
   ]
  },
  {
   "cell_type": "code",
   "execution_count": 3,
   "id": "2ff82a6d",
   "metadata": {},
   "outputs": [
    {
     "name": "stdout",
     "output_type": "stream",
     "text": [
      "Transform set to: <bound method BinaryLabelTransformer.transform of <binary_label_transformer.BinaryLabelTransformer object at 0x000001E0B082BCE0>>, Type: <class 'method'>\n",
      "Path to train csv file: z:\\life\\edu\\NU-DAE\\IE 7500 - NLP\\Proj\\src\\SA_NLP\\train_60K.csv\n",
      "Path to test csv file: z:\\life\\edu\\NU-DAE\\IE 7500 - NLP\\Proj\\src\\SA_NLP\\test_20K.csv\n",
      "Path to validation csv file: z:\\life\\edu\\NU-DAE\\IE 7500 - NLP\\Proj\\src\\SA_NLP\\validate_20K.csv\n",
      "Train size: 60000\n",
      "Test size: 20000\n",
      "Validation size: 20000\n",
      "Transform set to: <bound method BinaryLabelTransformer.transform of <binary_label_transformer.BinaryLabelTransformer object at 0x000001E0B082BCE0>>, Type: <class 'method'>\n",
      "Path to train csv file: z:\\life\\edu\\NU-DAE\\IE 7500 - NLP\\Proj\\src\\SA_NLP\\train_60K.csv\n",
      "Path to test csv file: z:\\life\\edu\\NU-DAE\\IE 7500 - NLP\\Proj\\src\\SA_NLP\\test_20K.csv\n",
      "Path to validation csv file: z:\\life\\edu\\NU-DAE\\IE 7500 - NLP\\Proj\\src\\SA_NLP\\validate_20K.csv\n"
     ]
    },
    {
     "name": "stderr",
     "output_type": "stream",
     "text": [
      "2025-06-23 21:21:46,110 - INFO - Instantiating: SASelfAttentionModel from module: SASelfAttentionModel, model params: Self Attention Model/SASelfAttentionModel/SASelfAttentionModel/train_60K.csv/test_20K.csv/validate_20K.csv/{'vocab_size': 1000, 'max_features': 20000, 'sequence_length': 100, 'embedding_dim': 20000, 'embed_output': 128, 'bi_lstm_input_dim': 64, 'self_attention_input_dim': 64, 'dense_1_layer_dim': 64, 'dense_1_dropout': 0.5, 'final_dense_dim': 2}\n"
     ]
    },
    {
     "name": "stdout",
     "output_type": "stream",
     "text": [
      "Train size: 60000\n",
      "Test size: 20000\n",
      "Validation size: 20000\n"
     ]
    },
    {
     "name": "stderr",
     "output_type": "stream",
     "text": [
      "2025-06-23 21:21:49,963 - INFO - Module obtained: <module 'SASelfAttentionModel' from 'z:\\\\life\\\\edu\\\\NU-DAE\\\\IE 7500 - NLP\\\\Proj\\\\src\\\\SA_NLP\\\\SASelfAttentionModel.py'>\n",
      "2025-06-23 21:21:49,964 - INFO - Class obtained: <class 'SASelfAttentionModel.SASelfAttentionModel'>\n",
      "2025-06-23 21:21:49,964 - INFO - SA Model params obtained: Self Attention Model/SASelfAttentionModel/SASelfAttentionModel/train_60K.csv/test_20K.csv/validate_20K.csv/{'vocab_size': 1000, 'max_features': 20000, 'sequence_length': 100, 'embedding_dim': 20000, 'embed_output': 128, 'bi_lstm_input_dim': 64, 'self_attention_input_dim': 64, 'dense_1_layer_dim': 64, 'dense_1_dropout': 0.5, 'final_dense_dim': 2}\n",
      "2025-06-23 21:21:49,965 - INFO - Model obtained: <SASelfAttentionModel.SASelfAttentionModel object at 0x000001E0E3948A70>\n",
      "2025-06-23 21:21:49,966 - INFO - Loaded model: SASelfAttentionModel : SASelfAttentionModel: Self Attention Model/SASelfAttentionModel/SASelfAttentionModel/train_60K.csv/test_20K.csv/validate_20K.csv/{'vocab_size': 1000, 'max_features': 20000, 'sequence_length': 100, 'embedding_dim': 20000, 'embed_output': 128, 'bi_lstm_input_dim': 64, 'self_attention_input_dim': 64, 'dense_1_layer_dim': 64, 'dense_1_dropout': 0.5, 'final_dense_dim': 2}\n",
      "2025-06-23 21:21:49,966 - INFO - ====================================================================================================\n",
      "2025-06-23 21:21:49,967 - INFO - Instantiating: sa_multihead_attention_model from module: sa_multihead_attention_model, model params: MultiHead Attention Model/sa_multihead_attention_model/SA_MultiHeadAttentionModel/train_60K.csv/test_20K.csv/validate_20K.csv/{}\n",
      "2025-06-23 21:21:49,971 - ERROR - Failed to load model sa_multihead_attention_model: No module named 'sa_multihead_attention_model'\n",
      "2025-06-23 21:21:49,971 - INFO - ====================================================================================================\n",
      "2025-06-23 21:21:49,972 - INFO - Running model: SASelfAttentionModel\n",
      "2025-06-23 21:21:49,972 - INFO - Calling SASelfAttentionModel.register(): Self Attention Model/SASelfAttentionModel/SASelfAttentionModel/train_60K.csv/test_20K.csv/validate_20K.csv/{'vocab_size': 1000, 'max_features': 20000, 'sequence_length': 100, 'embedding_dim': 20000, 'embed_output': 128, 'bi_lstm_input_dim': 64, 'self_attention_input_dim': 64, 'dense_1_layer_dim': 64, 'dense_1_dropout': 0.5, 'final_dense_dim': 2}\n",
      "2025-06-23 21:21:49,973 - INFO - Calling SASelfAttentionModel.preprocess(): Self Attention Model/SASelfAttentionModel/SASelfAttentionModel/train_60K.csv/test_20K.csv/validate_20K.csv/{'vocab_size': 1000, 'max_features': 20000, 'sequence_length': 100, 'embedding_dim': 20000, 'embed_output': 128, 'bi_lstm_input_dim': 64, 'self_attention_input_dim': 64, 'dense_1_layer_dim': 64, 'dense_1_dropout': 0.5, 'final_dense_dim': 2}\n",
      "2025-06-23 21:21:51,432 - INFO - Calling SASelfAttentionModel.fit(): Self Attention Model/SASelfAttentionModel/SASelfAttentionModel/train_60K.csv/test_20K.csv/validate_20K.csv/{'vocab_size': 1000, 'max_features': 20000, 'sequence_length': 100, 'embedding_dim': 20000, 'embed_output': 128, 'bi_lstm_input_dim': 64, 'self_attention_input_dim': 64, 'dense_1_layer_dim': 64, 'dense_1_dropout': 0.5, 'final_dense_dim': 2}\n",
      "e:\\life\\edu\\NU-DAE\\IE 7500 - NLP\\proj\\venv-nlp-project\\Lib\\site-packages\\keras\\src\\layers\\core\\embedding.py:97: UserWarning: Argument `input_length` is deprecated. Just remove it.\n",
      "  warnings.warn(\n",
      "2025-06-23 21:21:51,466 - INFO - Calling SASelfAttentionModel.fit(): Model compiled\n",
      "2025-06-23 21:21:51,467 - INFO - Calling SASelfAttentionModel.fit(): Fitting model: X_train: 60000, y_train: 60000, X_val: 20000, y_val: 20000,\n"
     ]
    },
    {
     "name": "stdout",
     "output_type": "stream",
     "text": [
      "Epoch 1/5\n"
     ]
    },
    {
     "name": "stderr",
     "output_type": "stream",
     "text": [
      "2025-06-23 21:21:52,598 - WARNING - From e:\\life\\edu\\NU-DAE\\IE 7500 - NLP\\proj\\venv-nlp-project\\Lib\\site-packages\\keras\\src\\backend\\tensorflow\\core.py:232: The name tf.placeholder is deprecated. Please use tf.compat.v1.placeholder instead.\n",
      "\n"
     ]
    },
    {
     "name": "stdout",
     "output_type": "stream",
     "text": [
      "\u001b[1m1875/1875\u001b[0m \u001b[32m━━━━━━━━━━━━━━━━━━━━\u001b[0m\u001b[37m\u001b[0m \u001b[1m100s\u001b[0m 51ms/step - accuracy: 0.7723 - loss: 0.4549 - val_accuracy: 0.8749 - val_loss: 0.2930\n",
      "Epoch 2/5\n",
      "\u001b[1m1875/1875\u001b[0m \u001b[32m━━━━━━━━━━━━━━━━━━━━\u001b[0m\u001b[37m\u001b[0m \u001b[1m99s\u001b[0m 53ms/step - accuracy: 0.9151 - loss: 0.2219 - val_accuracy: 0.8815 - val_loss: 0.2854\n",
      "Epoch 3/5\n",
      "\u001b[1m1875/1875\u001b[0m \u001b[32m━━━━━━━━━━━━━━━━━━━━\u001b[0m\u001b[37m\u001b[0m \u001b[1m96s\u001b[0m 51ms/step - accuracy: 0.9505 - loss: 0.1375 - val_accuracy: 0.8709 - val_loss: 0.3484\n",
      "Epoch 4/5\n",
      "\u001b[1m1875/1875\u001b[0m \u001b[32m━━━━━━━━━━━━━━━━━━━━\u001b[0m\u001b[37m\u001b[0m \u001b[1m96s\u001b[0m 51ms/step - accuracy: 0.9735 - loss: 0.0808 - val_accuracy: 0.8678 - val_loss: 0.4238\n",
      "Epoch 5/5\n",
      "\u001b[1m1875/1875\u001b[0m \u001b[32m━━━━━━━━━━━━━━━━━━━━\u001b[0m\u001b[37m\u001b[0m \u001b[1m94s\u001b[0m 50ms/step - accuracy: 0.9854 - loss: 0.0449 - val_accuracy: 0.8609 - val_loss: 0.5883\n"
     ]
    },
    {
     "name": "stderr",
     "output_type": "stream",
     "text": [
      "2025-06-23 21:29:56,024 - INFO - Calling SASelfAttentionModel.fit(): Model fitted\n",
      "2025-06-23 21:29:56,025 - INFO - Calling SASelfAttentionModel.predict(): Self Attention Model/SASelfAttentionModel/SASelfAttentionModel/train_60K.csv/test_20K.csv/validate_20K.csv/{'vocab_size': 1000, 'max_features': 20000, 'sequence_length': 100, 'embedding_dim': 20000, 'embed_output': 128, 'bi_lstm_input_dim': 64, 'self_attention_input_dim': 64, 'dense_1_layer_dim': 64, 'dense_1_dropout': 0.5, 'final_dense_dim': 2}\n"
     ]
    },
    {
     "name": "stdout",
     "output_type": "stream",
     "text": [
      "\u001b[1m625/625\u001b[0m \u001b[32m━━━━━━━━━━━━━━━━━━━━\u001b[0m\u001b[37m\u001b[0m \u001b[1m9s\u001b[0m 14ms/step\n"
     ]
    },
    {
     "name": "stderr",
     "output_type": "stream",
     "text": [
      "2025-06-23 21:30:05,113 - INFO - Calling SASelfAttentionModel.evaluate(): Self Attention Model/SASelfAttentionModel/SASelfAttentionModel/train_60K.csv/test_20K.csv/validate_20K.csv/{'vocab_size': 1000, 'max_features': 20000, 'sequence_length': 100, 'embedding_dim': 20000, 'embed_output': 128, 'bi_lstm_input_dim': 64, 'self_attention_input_dim': 64, 'dense_1_layer_dim': 64, 'dense_1_dropout': 0.5, 'final_dense_dim': 2}\n"
     ]
    },
    {
     "name": "stdout",
     "output_type": "stream",
     "text": [
      "\u001b[1m625/625\u001b[0m \u001b[32m━━━━━━━━━━━━━━━━━━━━\u001b[0m\u001b[37m\u001b[0m \u001b[1m8s\u001b[0m 12ms/step - accuracy: 0.8368 - loss: 0.6615\n"
     ]
    },
    {
     "name": "stderr",
     "output_type": "stream",
     "text": [
      "2025-06-23 21:30:12,928 - INFO - Finished running model: SASelfAttentionModel\n"
     ]
    },
    {
     "name": "stdout",
     "output_type": "stream",
     "text": [
      "Test accuracy: 0.5883\n"
     ]
    }
   ],
   "source": [
    "sa_model_pipeline = SAModelPipeline()\n",
    "sa_model_pipeline.run_model_pipeline()"
   ]
  }
 ],
 "metadata": {
  "kernelspec": {
   "display_name": "venv-nlp-project",
   "language": "python",
   "name": "python3"
  },
  "language_info": {
   "codemirror_mode": {
    "name": "ipython",
    "version": 3
   },
   "file_extension": ".py",
   "mimetype": "text/x-python",
   "name": "python",
   "nbconvert_exporter": "python",
   "pygments_lexer": "ipython3",
   "version": "3.12.7"
  }
 },
 "nbformat": 4,
 "nbformat_minor": 5
}
