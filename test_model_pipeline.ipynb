{
 "cells": [
  {
   "cell_type": "code",
   "execution_count": 1,
   "id": "afec2d68",
   "metadata": {},
   "outputs": [
    {
     "name": "stderr",
     "output_type": "stream",
     "text": [
      "e:\\life\\edu\\NU-DAE\\IE 7500 - NLP\\proj\\venv-nlp-project\\Lib\\site-packages\\tqdm\\auto.py:21: TqdmWarning: IProgress not found. Please update jupyter and ipywidgets. See https://ipywidgets.readthedocs.io/en/stable/user_install.html\n",
      "  from .autonotebook import tqdm as notebook_tqdm\n"
     ]
    }
   ],
   "source": [
    "import logging\n",
    "\n",
    "from sa_model_pipeline import SAModelPipeline"
   ]
  },
  {
   "cell_type": "code",
   "execution_count": 2,
   "id": "c6ee74ff",
   "metadata": {},
   "outputs": [],
   "source": [
    "# Configure logging\n",
    "logging.basicConfig(level=logging.INFO, format='%(asctime)s - %(levelname)s - %(message)s')\n",
    "logger = logging.getLogger(__name__)"
   ]
  },
  {
   "cell_type": "code",
   "execution_count": 3,
   "id": "2ff82a6d",
   "metadata": {},
   "outputs": [
    {
     "name": "stdout",
     "output_type": "stream",
     "text": [
      "Path to train csv file: z:\\life\\edu\\NU-DAE\\IE 7500 - NLP\\Proj\\src\\SA_NLP\\train_80K.csv\n",
      "Path to test csv file: z:\\life\\edu\\NU-DAE\\IE 7500 - NLP\\Proj\\src\\SA_NLP\\test_20K.csv\n",
      "Path to validation csv file: z:\\life\\edu\\NU-DAE\\IE 7500 - NLP\\Proj\\src\\SA_NLP\\validate_20K.csv\n",
      "Train size: 80000\n",
      "Test size: 20000\n",
      "Validation size: 20000\n",
      "Path to train csv file: z:\\life\\edu\\NU-DAE\\IE 7500 - NLP\\Proj\\src\\SA_NLP\\train_80K.csv\n"
     ]
    },
    {
     "name": "stderr",
     "output_type": "stream",
     "text": [
      "2025-06-23 13:05:27,430 - INFO - Instantiating: SASelfAttentionModel from module: SASelfAttentionModel, model params: Self Attention Model/SASelfAttentionModel/SASelfAttentionModel/train_80K.csv/test_20K.csv/validate_20K.csv/{'vocab_size': 1000, 'max_features': 20000, 'sequence_length': 100, 'embedding_dim': 20000, 'embed_output': 128, 'bi_lstm_input_dim': 64, 'self_attention_input_dim': 64, 'dense_1_layer_dim': 64, 'dense_1_dropout': 0.5, 'final_dense_dim': 2}\n"
     ]
    },
    {
     "name": "stdout",
     "output_type": "stream",
     "text": [
      "Path to test csv file: z:\\life\\edu\\NU-DAE\\IE 7500 - NLP\\Proj\\src\\SA_NLP\\test_20K.csv\n",
      "Path to validation csv file: z:\\life\\edu\\NU-DAE\\IE 7500 - NLP\\Proj\\src\\SA_NLP\\validate_20K.csv\n",
      "Train size: 80000\n",
      "Test size: 20000\n",
      "Validation size: 20000\n"
     ]
    },
    {
     "name": "stderr",
     "output_type": "stream",
     "text": [
      "2025-06-23 13:05:31,133 - INFO - Module obtained: <module 'SASelfAttentionModel' from 'z:\\\\life\\\\edu\\\\NU-DAE\\\\IE 7500 - NLP\\\\Proj\\\\src\\\\SA_NLP\\\\SASelfAttentionModel.py'>\n",
      "2025-06-23 13:05:31,133 - INFO - Class obtained: <class 'SASelfAttentionModel.SASelfAttentionModel'>\n",
      "2025-06-23 13:05:31,133 - INFO - SA Model params obtained: Self Attention Model/SASelfAttentionModel/SASelfAttentionModel/train_80K.csv/test_20K.csv/validate_20K.csv/{'vocab_size': 1000, 'max_features': 20000, 'sequence_length': 100, 'embedding_dim': 20000, 'embed_output': 128, 'bi_lstm_input_dim': 64, 'self_attention_input_dim': 64, 'dense_1_layer_dim': 64, 'dense_1_dropout': 0.5, 'final_dense_dim': 2}\n",
      "2025-06-23 13:05:31,133 - INFO - Model obtained: <SASelfAttentionModel.SASelfAttentionModel object at 0x000001E4E4250C20>\n",
      "2025-06-23 13:05:31,133 - INFO - Loaded model: SASelfAttentionModel : SASelfAttentionModel: Self Attention Model/SASelfAttentionModel/SASelfAttentionModel/train_80K.csv/test_20K.csv/validate_20K.csv/{'vocab_size': 1000, 'max_features': 20000, 'sequence_length': 100, 'embedding_dim': 20000, 'embed_output': 128, 'bi_lstm_input_dim': 64, 'self_attention_input_dim': 64, 'dense_1_layer_dim': 64, 'dense_1_dropout': 0.5, 'final_dense_dim': 2}\n",
      "2025-06-23 13:05:31,133 - INFO - ====================================================================================================\n",
      "2025-06-23 13:05:31,142 - INFO - Instantiating: sa_multihead_attention_model from module: sa_multihead_attention_model, model params: MultiHead Attention Model/sa_multihead_attention_model/SA_MultiHeadAttentionModel/train_80K.csv/test_20K.csv/validate_20K.csv/{}\n",
      "2025-06-23 13:05:31,146 - ERROR - Failed to load model sa_multihead_attention_model: No module named 'sa_multihead_attention_model'\n",
      "2025-06-23 13:05:31,148 - INFO - ====================================================================================================\n",
      "2025-06-23 13:05:31,148 - INFO - Running model: SASelfAttentionModel\n",
      "2025-06-23 13:05:31,149 - INFO - Calling SASelfAttentionModel.register(): Self Attention Model/SASelfAttentionModel/SASelfAttentionModel/train_80K.csv/test_20K.csv/validate_20K.csv/{'vocab_size': 1000, 'max_features': 20000, 'sequence_length': 100, 'embedding_dim': 20000, 'embed_output': 128, 'bi_lstm_input_dim': 64, 'self_attention_input_dim': 64, 'dense_1_layer_dim': 64, 'dense_1_dropout': 0.5, 'final_dense_dim': 2}\n",
      "2025-06-23 13:05:31,149 - INFO - Calling SASelfAttentionModel.preprocess(): Self Attention Model/SASelfAttentionModel/SASelfAttentionModel/train_80K.csv/test_20K.csv/validate_20K.csv/{'vocab_size': 1000, 'max_features': 20000, 'sequence_length': 100, 'embedding_dim': 20000, 'embed_output': 128, 'bi_lstm_input_dim': 64, 'self_attention_input_dim': 64, 'dense_1_layer_dim': 64, 'dense_1_dropout': 0.5, 'final_dense_dim': 2}\n",
      "2025-06-23 13:05:31,149 - INFO - Calling SASelfAttentionModel.fit(): Self Attention Model/SASelfAttentionModel/SASelfAttentionModel/train_80K.csv/test_20K.csv/validate_20K.csv/{'vocab_size': 1000, 'max_features': 20000, 'sequence_length': 100, 'embedding_dim': 20000, 'embed_output': 128, 'bi_lstm_input_dim': 64, 'self_attention_input_dim': 64, 'dense_1_layer_dim': 64, 'dense_1_dropout': 0.5, 'final_dense_dim': 2}\n",
      "2025-06-23 13:05:31,149 - INFO - Calling SASelfAttentionModel.predict(): Self Attention Model/SASelfAttentionModel/SASelfAttentionModel/train_80K.csv/test_20K.csv/validate_20K.csv/{'vocab_size': 1000, 'max_features': 20000, 'sequence_length': 100, 'embedding_dim': 20000, 'embed_output': 128, 'bi_lstm_input_dim': 64, 'self_attention_input_dim': 64, 'dense_1_layer_dim': 64, 'dense_1_dropout': 0.5, 'final_dense_dim': 2}\n",
      "2025-06-23 13:05:31,149 - INFO - Calling SASelfAttentionModel.evaluate(): Self Attention Model/SASelfAttentionModel/SASelfAttentionModel/train_80K.csv/test_20K.csv/validate_20K.csv/{'vocab_size': 1000, 'max_features': 20000, 'sequence_length': 100, 'embedding_dim': 20000, 'embed_output': 128, 'bi_lstm_input_dim': 64, 'self_attention_input_dim': 64, 'dense_1_layer_dim': 64, 'dense_1_dropout': 0.5, 'final_dense_dim': 2}\n",
      "2025-06-23 13:05:31,149 - INFO - Finished running model: SASelfAttentionModel\n"
     ]
    }
   ],
   "source": [
    "sa_model_pipeline = SAModelPipeline()\n",
    "sa_model_pipeline.run_model_pipeline()"
   ]
  }
 ],
 "metadata": {
  "kernelspec": {
   "display_name": "venv-nlp-project",
   "language": "python",
   "name": "python3"
  },
  "language_info": {
   "codemirror_mode": {
    "name": "ipython",
    "version": 3
   },
   "file_extension": ".py",
   "mimetype": "text/x-python",
   "name": "python",
   "nbconvert_exporter": "python",
   "pygments_lexer": "ipython3",
   "version": "3.12.7"
  }
 },
 "nbformat": 4,
 "nbformat_minor": 5
}
