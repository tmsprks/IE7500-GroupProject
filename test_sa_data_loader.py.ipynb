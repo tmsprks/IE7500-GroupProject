{
 "cells": [
  {
   "cell_type": "code",
   "execution_count": null,
   "id": "afec2d68",
   "metadata": {},
   "outputs": [],
   "source": [
    "import os\n",
    "from kaggle_dataset import KaggleDataSet\n",
    "from sa_data_loader import SADataLoader"
   ]
  },
  {
   "cell_type": "code",
   "execution_count": null,
   "id": "06265db0",
   "metadata": {},
   "outputs": [],
   "source": [
    "column_names = [KaggleDataSet.POLARITY_COLUMN_NAME, \n",
    "                KaggleDataSet.TITLE_COLUMN_NAME,\n",
    "                KaggleDataSet.REVIEW_COLUMN_NAME]\n",
    "\n",
    "train_file = \"train_80K.csv\"\n",
    "test_file = \"test_20K.csv\"\n",
    "\n",
    "cwd = os.getcwd()\n",
    "path_to_train_csv_file = os.path.join(cwd, train_file)\n",
    "path_to_test_csv_file = os.path.join(cwd, test_file)\n",
    "\n",
    "sa_data_loader = SADataLoader(path_to_train_csv_file, path_to_test_csv_file, None)\n",
    "sa_data_loader.load_data(column_names)\n",
    "\n",
    "train_df = sa_data_loader.get_train_df()\n",
    "test_df = sa_data_loader.get_test_df()"
   ]
  },
  {
   "cell_type": "code",
   "execution_count": null,
   "id": "b41dd32a",
   "metadata": {},
   "outputs": [],
   "source": [
    "train_df.shape\n"
   ]
  },
  {
   "cell_type": "code",
   "execution_count": null,
   "id": "9045f540",
   "metadata": {},
   "outputs": [],
   "source": [
    "test_df.shape"
   ]
  }
 ],
 "metadata": {
  "kernelspec": {
   "display_name": "venv-nlp-project",
   "language": "python",
   "name": "python3"
  },
  "language_info": {
   "codemirror_mode": {
    "name": "ipython",
    "version": 3
   },
   "file_extension": ".py",
   "mimetype": "text/x-python",
   "name": "python",
   "nbconvert_exporter": "python",
   "pygments_lexer": "ipython3",
   "version": "3.12.7"
  }
 },
 "nbformat": 4,
 "nbformat_minor": 5
}
