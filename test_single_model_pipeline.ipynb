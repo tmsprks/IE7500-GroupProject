{
 "cells": [
  {
   "cell_type": "code",
   "execution_count": null,
   "id": "afec2d68",
   "metadata": {},
   "outputs": [],
   "source": [
    "import logging\n",
    "\n",
    "from sa_model_pipeline import SAModelPipeline"
   ]
  },
  {
   "cell_type": "code",
   "execution_count": null,
   "id": "c6ee74ff",
   "metadata": {},
   "outputs": [],
   "source": [
    "# Configure logging\n",
    "logging.basicConfig(level=logging.INFO, format='%(asctime)s - %(levelname)s - %(message)s')\n",
    "logger = logging.getLogger(__name__)"
   ]
  },
  {
   "cell_type": "code",
   "execution_count": null,
   "id": "2ff82a6d",
   "metadata": {},
   "outputs": [],
   "source": [
    "sa_model_pipeline = SAModelPipeline()\n",
    "\n",
    "model_module_name = \"SASelfAttentionModel\"\n",
    "model_class_name = \"SASelfAttentionModel\"\n",
    "sa_model_pipeline.run_single_model_pipeline(model_module_name, model_class_name)"
   ]
  }
 ],
 "metadata": {
  "kernelspec": {
   "display_name": "venv-nlp-project",
   "language": "python",
   "name": "python3"
  },
  "language_info": {
   "codemirror_mode": {
    "name": "ipython",
    "version": 3
   },
   "file_extension": ".py",
   "mimetype": "text/x-python",
   "name": "python",
   "nbconvert_exporter": "python",
   "pygments_lexer": "ipython3",
   "version": "3.12.7"
  }
 },
 "nbformat": 4,
 "nbformat_minor": 5
}
