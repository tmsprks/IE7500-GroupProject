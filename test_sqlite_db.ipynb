{
 "cells": [
  {
   "cell_type": "code",
   "execution_count": 1,
   "id": "afec2d68",
   "metadata": {},
   "outputs": [
    {
     "name": "stderr",
     "output_type": "stream",
     "text": [
      "e:\\life\\edu\\NU-DAE\\IE 7500 - NLP\\Proj\\venv-nlp-proj\\Lib\\site-packages\\tqdm\\auto.py:21: TqdmWarning: IProgress not found. Please update jupyter and ipywidgets. See https://ipywidgets.readthedocs.io/en/stable/user_install.html\n",
      "  from .autonotebook import tqdm as notebook_tqdm\n"
     ]
    }
   ],
   "source": [
    "from data_generator import DataGenerator\n",
    "from kaggle_data_loader import KaggleDataLoader\n",
    "from kaggle_dataset import KaggleDataSet\n",
    "from data_generator import DataGenerator\n",
    "from SASQLiteDB import SASQLiteDB"
   ]
  },
  {
   "cell_type": "code",
   "execution_count": 2,
   "id": "06265db0",
   "metadata": {},
   "outputs": [
    {
     "name": "stdout",
     "output_type": "stream",
     "text": [
      "Path to dataset files: C:\\Users\\User0n3\\.cache\\kagglehub\\datasets\\kritanjalijain\\amazon-reviews\\versions\\2\n",
      "C:\\Users\\User0n3\\.cache\\kagglehub\\datasets\\kritanjalijain\\amazon-reviews\\versions\\2\n",
      "['amazon_review_polarity_csv.tgz', 'test.csv', 'train.csv']\n"
     ]
    }
   ],
   "source": [
    "\n",
    "kaggle_path = \"kritanjalijain/amazon-reviews\"\n",
    "column_names = [KaggleDataSet.POLARITY_COLUMN_NAME, \n",
    "                KaggleDataSet.TITLE_COLUMN_NAME, \n",
    "                KaggleDataSet.REVIEW_COLUMN_NAME]\n",
    "kaggle_data_loader = KaggleDataLoader(kaggle_path)\n",
    "kaggle_data_loader.load_data(column_names)\n",
    "\n",
    "kaggle_dataset = KaggleDataSet(kaggle_data_loader)\n"
   ]
  },
  {
   "cell_type": "code",
   "execution_count": 3,
   "id": "6c169fbc",
   "metadata": {},
   "outputs": [
    {
     "name": "stdout",
     "output_type": "stream",
     "text": [
      "Database created successfully at 'SA-review.db' with train_dataset, test_dataset, and validation_dataset tables.\n",
      "Successfully updated 'train_dataset' with 3600000 rows.\n",
      "Successfully updated 'test_dataset' with 400000 rows.\n"
     ]
    },
    {
     "data": {
      "text/plain": [
       "True"
      ]
     },
     "execution_count": 3,
     "metadata": {},
     "output_type": "execute_result"
    }
   ],
   "source": [
    "dbPath = \"SA-review.db\"\n",
    "sasqliteDB = SASQLiteDB(dbPath)\n",
    "sasqliteDB.create_database(drop_if_exists=True)\n",
    "sasqliteDB.update_database(DataGenerator.GEN_DATA_INFO_DATASET_TYPE_TRAIN_VAL, kaggle_dataset.get_train_df())\n",
    "sasqliteDB.update_database(DataGenerator.GEN_DATA_INFO_DATASET_TYPE_TEST_VAL, kaggle_dataset.get_test_df())"
   ]
  }
 ],
 "metadata": {
  "kernelspec": {
   "display_name": "venv-nlp-proj",
   "language": "python",
   "name": "python3"
  },
  "language_info": {
   "codemirror_mode": {
    "name": "ipython",
    "version": 3
   },
   "file_extension": ".py",
   "mimetype": "text/x-python",
   "name": "python",
   "nbconvert_exporter": "python",
   "pygments_lexer": "ipython3",
   "version": "3.12.7"
  }
 },
 "nbformat": 4,
 "nbformat_minor": 5
}
